{
 "cells": [
  {
   "cell_type": "code",
   "execution_count": 6,
   "metadata": {},
   "outputs": [
    {
     "name": "stdout",
     "output_type": "stream",
     "text": [
      "1 192.168.1.0\n"
     ]
    },
    {
     "data": {
      "text/plain": [
       "undefined"
      ]
     },
     "execution_count": 6,
     "metadata": {},
     "output_type": "execute_result"
    }
   ],
   "source": [
    "var line = '192.168.1.1 192.168.1.2 255.255.255.0';\n",
    "\n",
    "var lineArray = line.split(' ');\n",
    "var ip1 = lineArray[0];\n",
    "var ip2 = lineArray[1];\n",
    "var coverCode = lineArray[2];\n",
    "var resultFlag = 0;\n",
    "        \n",
    "var calculateIp = function(ip, cover) {\n",
    "    var res = [];\n",
    "    var slices = ip.split('.');\n",
    "    var covers = cover.split('.');\n",
    "    for(var i = 0; i < 4; i++) {\n",
    "        res.push(Number(slices[i]) & Number(covers[i]));\n",
    "    }\n",
    "    return res.join('.');\n",
    "}\n",
    "        \n",
    "var cal1 = calculateIp(ip1, coverCode);\n",
    "var cal2 = calculateIp(ip2, coverCode);\n",
    "        \n",
    "if(cal1 == cal2) {\n",
    "    resultFlag = 1;\n",
    "}\n",
    "        \n",
    "// out\n",
    "console.log(resultFlag + ' ' + cal1);"
   ]
  },
  {
   "cell_type": "code",
   "execution_count": 5,
   "metadata": {},
   "outputs": [
    {
     "name": "stdout",
     "output_type": "stream",
     "text": [
      "2 8 10\n",
      "2\n",
      "1\n",
      "[\"1\",\"0\",\"1\",\"0\",\"1\",\"1\",\"1\",\"1\",\"1\",\"1\"]\n",
      "[\"0\",\"0\",\"0\",\"0\",\"0\",\"0\",\"0\",\"1\",\"1\",\"1\"]\n",
      "0 7\n",
      "3\n",
      "1\n",
      "[\"1\",\"0\",\"1\",\"0\",\"1\",\"1\",\"1\",\"1\",\"1\",\"1\"]\n",
      "[\"0\",\"0\",\"0\",\"0\",\"0\",\"0\",\"0\",\"1\",\"1\",\"1\"]\n",
      "[\"1\",\"1\",\"0\",\"1\",\"0\",\"1\",\"0\",\"1\",\"1\",\"1\"]\n",
      "0 7\n",
      "4\n",
      "9\n"
     ]
    },
    {
     "data": {
      "text/plain": [
       "undefined"
      ]
     },
     "execution_count": 5,
     "metadata": {},
     "output_type": "execute_result"
    }
   ],
   "source": [
    "var inputArray = '8\\n1010111111\\n0000000111\\n1101010111\\n0000110001\\n0101001001\\n1001010101\\n1001111111\\n1001010101'.split('\\n');\n",
    "var nLine = 0;\n",
    "   \n",
    "var rowCount = Number(inputArray[nLine++].trim());\n",
    "    \n",
    "// 将输入转换为矩阵\n",
    "var linesToMatrix = function (rowCount){\n",
    "    var res = [];\n",
    "    for(var i = 0; i < rowCount; i++) {\n",
    "        var row = inputArray[nLine++].trim().split('');\n",
    "        res.push(row);\n",
    "    }\n",
    "    return res;\n",
    "}\n",
    "\n",
    "// 判断自矩阵是否为全0或全1\n",
    "var isAvaliable = function (m, d, offsetX, offsetY) {\n",
    "    var first = m[offsetX][offsetY];\n",
    "    if(offsetX == 0 && offsetY == 7) {\n",
    "        console.log(first);\n",
    "        for(var i = offsetX; i < offsetX + d; i++) {    \n",
    "            console.log(JSON.stringify(m[i]));\n",
    "        }\n",
    "    }\n",
    "    for(var i = offsetX; i < offsetX + d; i++) {            \n",
    "        for(var j = offsetY; j < offsetY + d; j++) {\n",
    "            if(m[i][j] !== first) {\n",
    "                return false;\n",
    "            }\n",
    "        }\n",
    "    }\n",
    "    return true;\n",
    "}\n",
    "\n",
    "// 搜索返回最大正方形子矩阵面积\n",
    "var searchMatrix = function(m) {\n",
    "    var nDimensions = 2;\n",
    "    var xLength = m[0].length;\n",
    "    console.log(nDimensions, rowCount, xLength);\n",
    "    var temp = 1;\n",
    "    var test = function(nDimensions) {\n",
    "        for(var i = 0; i <= rowCount - nDimensions; i++) {\n",
    "            for(var j = 0; j <= xLength - nDimensions; j++) {\n",
    "                if(isAvaliable(m, nDimensions, i, j)) {\n",
    "                    console.log(i, j);\n",
    "                    return true;\n",
    "                } \n",
    "            }\n",
    "        }\n",
    "       return false;\n",
    "    }        \n",
    "   while(rowCount - nDimensions >= 1 && xLength - nDimensions >= 1) {\n",
    "       console.log(nDimensions);\n",
    "        if(test(nDimensions)) {\n",
    "            temp = nDimensions;\n",
    "            nDimensions++;\n",
    "        } else {\n",
    "            return temp * temp;\n",
    "        }\n",
    "    }\n",
    "    return temp * temp;\n",
    "}\n",
    "\n",
    "var matrix = linesToMatrix(rowCount); \n",
    "\n",
    "var res = searchMatrix(matrix);\n",
    "\n",
    "// out\n",
    "console.log(res);\n"
   ]
  },
  {
   "cell_type": "code",
   "execution_count": null,
   "metadata": {},
   "outputs": [],
   "source": []
  }
 ],
 "metadata": {
  "kernelspec": {
   "display_name": "Javascript (Node.js)",
   "language": "javascript",
   "name": "javascript"
  },
  "language_info": {
   "file_extension": ".js",
   "mimetype": "application/javascript",
   "name": "javascript",
   "version": "8.9.3"
  }
 },
 "nbformat": 4,
 "nbformat_minor": 2
}
