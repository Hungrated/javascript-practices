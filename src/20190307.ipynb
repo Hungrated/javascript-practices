{
 "cells": [
  {
   "cell_type": "code",
   "execution_count": 10,
   "metadata": {},
   "outputs": [
    {
     "data": {
      "text/plain": [
       "undefined"
      ]
     },
     "execution_count": 10,
     "metadata": {},
     "output_type": "execute_result"
    }
   ],
   "source": [
    "function indexOf(arr, item) {\n",
    "    if (typeof arr != 'object') return -1;\n",
    "    const _arr = Array.from(arr);\n",
    "    let res = -1;\n",
    "    _arr.forEach.call(_arr, (val, index) => {\n",
    "        if (val === item) {\n",
    "            res = index;\n",
    "        }        \n",
    "    });\n",
    "    return res;\n",
    "}"
   ]
  },
  {
   "cell_type": "code",
   "execution_count": 11,
   "metadata": {},
   "outputs": [
    {
     "data": {
      "text/plain": [
       "0"
      ]
     },
     "execution_count": 11,
     "metadata": {},
     "output_type": "execute_result"
    }
   ],
   "source": [
    "indexOf([3], 3);"
   ]
  },
  {
   "cell_type": "code",
   "execution_count": null,
   "metadata": {},
   "outputs": [],
   "source": [
    "var inputArray = '3\\n1100\\n1010\\n1100'.split('\\n');\n",
    "var nLine = 0;\n",
    "\n",
    "   \n",
    "    var rowCount = Number(inputArray[nLine++].trim());\n",
    "    \n",
    "    // 将输入转换为矩阵\n",
    "    var linesToMatrix = function (rowCount){\n",
    "        var res = [];\n",
    "        for(var i = 0; i < rowCount; i++) {\n",
    "            var row = inputArray[nLine++].trim().split('');\n",
    "            res.push(row);\n",
    "        }\n",
    "        return res;\n",
    "    }\n",
    "    \n",
    "    // 判断自矩阵是否为全0或全1\n",
    "    var isAvaliable = function (m, d, offsetX, offsetY) {\n",
    "        var first = m[0][0];\n",
    "        for(var i = offsetX; i < offsetX + d; i++) {            \n",
    "            for(var j = offsetY; j < offsetY + d; j++) {\n",
    "                if(m[i][j] !== first) {\n",
    "                    return false;\n",
    "                    console.log(d, offsetX, offsetY);\n",
    "                }\n",
    "            }\n",
    "        }\n",
    "        return true;\n",
    "    }\n",
    "    \n",
    "    // 搜索返回最大正方形子矩阵面积\n",
    "    var searchMatrix = function(m) {\n",
    "        console.log(JSON.stringify(m));\n",
    "        var nDimensions = 2;\n",
    "        var xLength = matrix[0].length;\n",
    "        \n",
    "        var flag = false;\n",
    "        while(rowCount - nDimensions >= 1 && xLength - nDimensions >= 1) {\n",
    "            for(var i = 0; i <= rowCount - nDimensions; i++) {\n",
    "                for(var j = 0; j <= xLength - nDimensions; j++) {\n",
    "                    if(isAvaliable(m, nDimensions, i, j)) {\n",
    "                        nDimensions++;\n",
    "                    } else {\n",
    "                        return nDimensions * nDimensions;\n",
    "                    }\n",
    "                }\n",
    "            }\n",
    "        }\n",
    "    }\n",
    "    var matrix = linesToMatrix(rowCount);\n",
    "    var res = searchMatrix(matrix);\n",
    "    // out\n",
    "    console.log(res);"
   ]
  },
  {
   "cell_type": "code",
   "execution_count": null,
   "metadata": {},
   "outputs": [],
   "source": []
  }
 ],
 "metadata": {
  "kernelspec": {
   "display_name": "Javascript (Node.js)",
   "language": "javascript",
   "name": "javascript"
  },
  "language_info": {
   "file_extension": ".js",
   "mimetype": "application/javascript",
   "name": "javascript",
   "version": "8.9.3"
  }
 },
 "nbformat": 4,
 "nbformat_minor": 2
}
