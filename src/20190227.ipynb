{
 "cells": [
  {
   "cell_type": "code",
   "execution_count": 1,
   "metadata": {},
   "outputs": [
    {
     "data": {
      "text/plain": [
       "undefined"
      ]
     },
     "execution_count": 1,
     "metadata": {},
     "output_type": "execute_result"
    }
   ],
   "source": [
    "// 强制一元函数\n",
    "\n",
    "const unary = fn => fn.length === 1 ? fn : args => fn(args);"
   ]
  },
  {
   "cell_type": "code",
   "execution_count": 2,
   "metadata": {},
   "outputs": [
    {
     "data": {
      "text/plain": [
       "[ 1, NaN, NaN ]"
      ]
     },
     "execution_count": 2,
     "metadata": {},
     "output_type": "execute_result"
    }
   ],
   "source": [
    "['1', '2', '3'].map(parseInt);"
   ]
  },
  {
   "cell_type": "code",
   "execution_count": 3,
   "metadata": {},
   "outputs": [
    {
     "data": {
      "text/plain": [
       "[ 1, 2, 3 ]"
      ]
     },
     "execution_count": 3,
     "metadata": {},
     "output_type": "execute_result"
    }
   ],
   "source": [
    "['1', '2', '3'].map(unary(parseInt));"
   ]
  },
  {
   "cell_type": "code",
   "execution_count": 4,
   "metadata": {},
   "outputs": [
    {
     "data": {
      "text/plain": [
       "undefined"
      ]
     },
     "execution_count": 4,
     "metadata": {},
     "output_type": "execute_result"
    }
   ],
   "source": [
    "// 强制执行一次\n",
    "\n",
    "const once = fn => {\n",
    "    let done = false;\n",
    "    return function(){\n",
    "        return done ? undefined : ((done = true), fn.apply(this,arguments));\n",
    "    }\n",
    "}"
   ]
  },
  {
   "cell_type": "code",
   "execution_count": 5,
   "metadata": {},
   "outputs": [
    {
     "data": {
      "text/plain": [
       "undefined"
      ]
     },
     "execution_count": 5,
     "metadata": {},
     "output_type": "execute_result"
    }
   ],
   "source": [
    "const payment = () => {\n",
    "    console.log('already paid');\n",
    "}\n",
    "\n",
    "const doPayment = once(payment);"
   ]
  },
  {
   "cell_type": "code",
   "execution_count": 6,
   "metadata": {},
   "outputs": [
    {
     "name": "stdout",
     "output_type": "stream",
     "text": [
      "already paid\n"
     ]
    },
    {
     "data": {
      "text/plain": [
       "undefined"
      ]
     },
     "execution_count": 6,
     "metadata": {},
     "output_type": "execute_result"
    }
   ],
   "source": [
    "doPayment();"
   ]
  },
  {
   "cell_type": "code",
   "execution_count": 7,
   "metadata": {},
   "outputs": [
    {
     "data": {
      "text/plain": [
       "undefined"
      ]
     },
     "execution_count": 7,
     "metadata": {},
     "output_type": "execute_result"
    }
   ],
   "source": [
    "doPayment();"
   ]
  },
  {
   "cell_type": "code",
   "execution_count": 10,
   "metadata": {},
   "outputs": [
    {
     "data": {
      "text/plain": [
       "undefined"
      ]
     },
     "execution_count": 10,
     "metadata": {},
     "output_type": "execute_result"
    }
   ],
   "source": [
    "// 缓存函数（对递归函数有用）\n",
    "\n",
    "const factorial = n => {\n",
    "    if(n === 0){\n",
    "        return 1;\n",
    "    }\n",
    "    return n * factorial(n - 1);\n",
    "}\n",
    "\n",
    "const memoized = fn => {\n",
    "    const cache = [];\n",
    "    return (arg) => cache[arg] || (cache[arg] = fn(arg));\n",
    "}\n",
    "\n",
    "const fastFactorial = memoized((n) => {\n",
    "    if(n === 0){\n",
    "        return 1;\n",
    "    }\n",
    "    return n * fastFactorial(n - 1);\n",
    "});"
   ]
  },
  {
   "cell_type": "code",
   "execution_count": 16,
   "metadata": {},
   "outputs": [
    {
     "data": {
      "text/plain": [
       "40320"
      ]
     },
     "execution_count": 16,
     "metadata": {},
     "output_type": "execute_result"
    }
   ],
   "source": [
    "factorial(8);"
   ]
  },
  {
   "cell_type": "code",
   "execution_count": 17,
   "metadata": {},
   "outputs": [
    {
     "data": {
      "text/plain": [
       "40320"
      ]
     },
     "execution_count": 17,
     "metadata": {},
     "output_type": "execute_result"
    }
   ],
   "source": [
    "fastFactorial(8);"
   ]
  },
  {
   "cell_type": "code",
   "execution_count": 20,
   "metadata": {},
   "outputs": [
    {
     "data": {
      "text/plain": [
       "[Function]"
      ]
     },
     "execution_count": 20,
     "metadata": {},
     "output_type": "execute_result"
    }
   ],
   "source": [
    "// 防抖与节流\n",
    "\n",
    "// 防抖：触发高频事件后n秒内函数只会执行一次，如果n秒内高频事件再次被触发，则重新计算时间\n",
    "\n",
    "function debounce(fn) {\n",
    "    let timeout = null; // 创建一个标记用来存放定时器的返回值\n",
    "    return function () {\n",
    "        clearTimeout(timeout);\n",
    "        // 每当用户输入的时候把前一个 setTimeout clear 掉\n",
    "        timeout = setTimeout(() => {\n",
    "            // 然后又创建一个新的 setTimeout, 这样就能保证输入字符后的 interval 间隔内如果还有字符输入的话，就不会执行 fn 函数\n",
    "            fn.apply(this, arguments);\n",
    "        }, 500);\n",
    "    };\n",
    "}\n",
    "\n",
    "function sayHi() {\n",
    "    console.log('防抖成功');\n",
    "}\n",
    "\n",
    "debounce(sayHi);"
   ]
  },
  {
   "cell_type": "code",
   "execution_count": 21,
   "metadata": {},
   "outputs": [
    {
     "data": {
      "text/plain": [
       "[Function]"
      ]
     },
     "execution_count": 21,
     "metadata": {},
     "output_type": "execute_result"
    }
   ],
   "source": [
    "// 节流：高频事件触发，但在n秒内只会执行一次，所以节流会稀释函数的执行频率\n",
    "\n",
    "function throttle(fn) {\n",
    "    let canRun = true; // 通过闭包保存一个标记\n",
    "    return function () {\n",
    "        if (!canRun) return; // 在函数开头判断标记是否为true，不为true则return\n",
    "        canRun = false; // 立即设置为false\n",
    "        setTimeout(() => { // 将外部传入的函数的执行放在setTimeout中\n",
    "            fn.apply(this, arguments);\n",
    "            // 最后在setTimeout执行完毕后再把标记设置为true(关键)表示可以执行下一次循环了。当定时器没有执行的时候标记永远是false，在开头被return掉\n",
    "            canRun = true;\n",
    "        }, 500);\n",
    "    };\n",
    "}\n",
    "function sayHi(e) {\n",
    "  console.log(e.target.innerWidth, e.target.innerHeight);\n",
    "}\n",
    "throttle(sayHi);"
   ]
  },
  {
   "cell_type": "code",
   "execution_count": 22,
   "metadata": {},
   "outputs": [
    {
     "data": {
      "text/plain": [
       "undefined"
      ]
     },
     "execution_count": 22,
     "metadata": {},
     "output_type": "execute_result"
    }
   ],
   "source": [
    "/*\n",
    "    Set\n",
    "1. 成员不能重复\n",
    "2. 只有键值，没有键名，有点类似数组。\n",
    "3. 可以遍历，方法有add, delete, has\n",
    "    WeakSet\n",
    "1. 成员都是对象\n",
    "2. 成员都是弱引用，随时可以消失。 可以用来保存DOM节点，不容易造成内存泄漏\n",
    "3. 不能遍历，方法有add, delete, has\n",
    "    Map\n",
    "1. 本质上是键值对的集合，类似集合\n",
    "2. 可以遍历，方法很多，可以干跟各种数据格式转换\n",
    "    WeakMap\n",
    "1. 直接受对象作为键名（null除外），不接受其他类型的值作为键名\n",
    "2. 键名所指向的对象，不计入垃圾回收机制\n",
    "3. 不能遍历，方法同get, set, has, delete\n",
    "\n",
    "*/"
   ]
  },
  {
   "cell_type": "code",
   "execution_count": 24,
   "metadata": {},
   "outputs": [
    {
     "data": {
      "text/plain": [
       "undefined"
      ]
     },
     "execution_count": 24,
     "metadata": {},
     "output_type": "execute_result"
    }
   ],
   "source": [
    "const m = new Map();"
   ]
  },
  {
   "cell_type": "code",
   "execution_count": 25,
   "metadata": {},
   "outputs": [
    {
     "data": {
      "text/plain": [
       "Map {}"
      ]
     },
     "execution_count": 25,
     "metadata": {},
     "output_type": "execute_result"
    }
   ],
   "source": [
    "m"
   ]
  },
  {
   "cell_type": "code",
   "execution_count": 26,
   "metadata": {},
   "outputs": [
    {
     "data": {
      "text/plain": [
       "Map { 'a' => 1 }"
      ]
     },
     "execution_count": 26,
     "metadata": {},
     "output_type": "execute_result"
    }
   ],
   "source": [
    "m.set('a', 1);"
   ]
  },
  {
   "cell_type": "code",
   "execution_count": 27,
   "metadata": {},
   "outputs": [
    {
     "data": {
      "text/plain": [
       "true"
      ]
     },
     "execution_count": 27,
     "metadata": {},
     "output_type": "execute_result"
    }
   ],
   "source": [
    "m.has('a');"
   ]
  },
  {
   "cell_type": "code",
   "execution_count": 28,
   "metadata": {},
   "outputs": [
    {
     "data": {
      "text/plain": [
       "true"
      ]
     },
     "execution_count": 28,
     "metadata": {},
     "output_type": "execute_result"
    }
   ],
   "source": [
    "m.delete('a');"
   ]
  },
  {
   "cell_type": "code",
   "execution_count": 29,
   "metadata": {},
   "outputs": [
    {
     "data": {
      "text/plain": [
       "false"
      ]
     },
     "execution_count": 29,
     "metadata": {},
     "output_type": "execute_result"
    }
   ],
   "source": [
    "m.has('a');"
   ]
  },
  {
   "cell_type": "code",
   "execution_count": 30,
   "metadata": {},
   "outputs": [
    {
     "data": {
      "text/plain": [
       "Map { 'name' => '张三', 'title' => 'Author' }"
      ]
     },
     "execution_count": 30,
     "metadata": {},
     "output_type": "execute_result"
    }
   ],
   "source": [
    "const n = new Map([\n",
    "  ['name', '张三'],\n",
    "  ['title', 'Author']\n",
    "]);\n",
    "\n",
    "n"
   ]
  },
  {
   "cell_type": "code",
   "execution_count": 31,
   "metadata": {},
   "outputs": [
    {
     "data": {
      "text/plain": [
       "MapIterator { 'name', 'title' }"
      ]
     },
     "execution_count": 31,
     "metadata": {},
     "output_type": "execute_result"
    }
   ],
   "source": [
    "n.keys();"
   ]
  },
  {
   "cell_type": "code",
   "execution_count": 34,
   "metadata": {},
   "outputs": [
    {
     "data": {
      "text/plain": [
       "MapIterator { '张三', 'Author' }"
      ]
     },
     "execution_count": 34,
     "metadata": {},
     "output_type": "execute_result"
    }
   ],
   "source": [
    "n.values();"
   ]
  },
  {
   "cell_type": "code",
   "execution_count": 36,
   "metadata": {},
   "outputs": [
    {
     "data": {
      "text/plain": [
       "[ [ 'name', '张三' ], [ 'title', 'Author' ] ]"
      ]
     },
     "execution_count": 36,
     "metadata": {},
     "output_type": "execute_result"
    }
   ],
   "source": [
    "[...n];"
   ]
  },
  {
   "cell_type": "code",
   "execution_count": 37,
   "metadata": {},
   "outputs": [
    {
     "data": {
      "text/plain": [
       "[ '张三', 'Author' ]"
      ]
     },
     "execution_count": 37,
     "metadata": {},
     "output_type": "execute_result"
    }
   ],
   "source": [
    "[...n.values()];"
   ]
  },
  {
   "cell_type": "code",
   "execution_count": 38,
   "metadata": {},
   "outputs": [
    {
     "data": {
      "text/plain": [
       "9007199254740992"
      ]
     },
     "execution_count": 38,
     "metadata": {},
     "output_type": "execute_result"
    }
   ],
   "source": [
    "9007199254740993"
   ]
  },
  {
   "cell_type": "code",
   "execution_count": 39,
   "metadata": {},
   "outputs": [
    {
     "name": "stdout",
     "output_type": "stream",
     "text": [
      "event call!!\n",
      "50\n"
     ]
    },
    {
     "data": {
      "text/plain": [
       "undefined"
      ]
     },
     "execution_count": 39,
     "metadata": {},
     "output_type": "execute_result"
    }
   ],
   "source": [
    "const asyncFunc = (n) => new Promise(res => setTimeout(() => res(n), 5000))\n",
    "\n",
    "const call = async (n) => {\n",
    "  const result = await asyncFunc(n)\n",
    "  console.log(result)\n",
    "}\n",
    "setTimeout(() => {\n",
    "  console.log('event call!!')  \n",
    "}, 2000)\n",
    "\n",
    "call(50)"
   ]
  },
  {
   "cell_type": "code",
   "execution_count": 1,
   "metadata": {},
   "outputs": [
    {
     "data": {
      "text/plain": [
       "0.30000000000000004"
      ]
     },
     "execution_count": 1,
     "metadata": {},
     "output_type": "execute_result"
    }
   ],
   "source": [
    "0.1 + 0.2"
   ]
  },
  {
   "cell_type": "code",
   "execution_count": 2,
   "metadata": {},
   "outputs": [
    {
     "name": "stdout",
     "output_type": "stream",
     "text": [
      "{ DTRACE_NET_SERVER_CONNECTION: [Function],\n",
      "  DTRACE_NET_STREAM_END: [Function],\n",
      "  DTRACE_HTTP_SERVER_REQUEST: [Function],\n",
      "  DTRACE_HTTP_SERVER_RESPONSE: [Function],\n",
      "  DTRACE_HTTP_CLIENT_REQUEST: [Function],\n",
      "  DTRACE_HTTP_CLIENT_RESPONSE: [Function],\n",
      "  global: [Circular],\n",
      "  process: \n",
      "   process {\n",
      "     title: '\\u0018پ��',\n",
      "     version: 'v8.9.3',\n",
      "     moduleLoadList: \n",
      "      [ 'Binding contextify',\n",
      "        'Binding natives',\n",
      "        'Binding config',\n",
      "        'NativeModule events',\n",
      "        'Binding async_wrap',\n",
      "        'Binding icu',\n",
      "        'NativeModule util',\n",
      "        'NativeModule internal/errors',\n",
      "        'NativeModule internal/encoding',\n",
      "        'NativeModule internal/util',\n",
      "        'Binding util',\n",
      "        'Binding constants',\n",
      "        'NativeModule internal/util/types',\n",
      "        'Binding buffer',\n",
      "        'NativeModule buffer',\n",
      "        'NativeModule internal/buffer',\n",
      "        'Binding uv',\n",
      "        'NativeModule internal/process',\n",
      "        'NativeModule internal/process/warning',\n",
      "        'NativeModule internal/process/next_tick',\n",
      "        'NativeModule async_hooks',\n",
      "        'NativeModule internal/process/promises',\n",
      "        'NativeModule internal/process/stdio',\n",
      "        'Binding performance',\n",
      "        'NativeModule perf_hooks',\n",
      "        'NativeModule internal/linkedlist',\n",
      "        'NativeModule internal/inspector_async_hook',\n",
      "        'Binding inspector',\n",
      "        'NativeModule child_process',\n",
      "        'Binding spawn_sync',\n",
      "        'Binding pipe_wrap',\n",
      "        'NativeModule internal/child_process',\n",
      "        'NativeModule string_decoder',\n",
      "        'NativeModule net',\n",
      "        'NativeModule stream',\n",
      "        'NativeModule internal/streams/legacy',\n",
      "        'NativeModule _stream_readable',\n",
      "        'NativeModule internal/streams/BufferList',\n",
      "        'NativeModule internal/streams/destroy',\n",
      "        'NativeModule _stream_writable',\n",
      "        'NativeModule _stream_duplex',\n",
      "        'NativeModule _stream_transform',\n",
      "        'NativeModule _stream_passthrough',\n",
      "        'NativeModule timers',\n",
      "        'Binding timer_wrap',\n",
      "        'NativeModule assert',\n",
      "        'NativeModule internal/net',\n",
      "        'Binding cares_wrap',\n",
      "        'Binding tty_wrap',\n",
      "        'Binding tcp_wrap',\n",
      "        'Binding stream_wrap',\n",
      "        'NativeModule dns',\n",
      "        'NativeModule dgram',\n",
      "        'Binding udp_wrap',\n",
      "        'Binding process_wrap',\n",
      "        'NativeModule internal/socket_list',\n",
      "        'NativeModule module',\n",
      "        'NativeModule internal/module',\n",
      "        'NativeModule internal/url',\n",
      "        'NativeModule internal/querystring',\n",
      "        'NativeModule querystring',\n",
      "        'Binding url',\n",
      "        'NativeModule vm',\n",
      "        'NativeModule fs',\n",
      "        'NativeModule path',\n",
      "        'Binding fs',\n",
      "        'Binding fs_event_wrap',\n",
      "        'NativeModule internal/fs',\n",
      "        'NativeModule internal/loader/Loader',\n",
      "        'NativeModule internal/loader/ModuleWrap',\n",
      "        'Internal Binding module_wrap',\n",
      "        'NativeModule internal/loader/ModuleMap',\n",
      "        'NativeModule internal/loader/ModuleJob',\n",
      "        'NativeModule internal/safe_globals',\n",
      "        'NativeModule internal/loader/ModuleRequest',\n",
      "        'NativeModule url',\n",
      "        'NativeModule internal/loader/search',\n",
      "        'NativeModule console' ],\n",
      "     versions: { http_parser: '2.7.0',\n",
      "  node: '8.9.3',\n",
      "  v8: '6.1.534.48',\n",
      "  uv: '1.15.0',\n",
      "  zlib: '1.2.11',\n",
      "  ares: '1.10.1-DEV',\n",
      "  modules: '57',\n",
      "  nghttp2: '1.25.0',\n",
      "  openssl: '1.0.2n',\n",
      "  icu: '59.1',\n",
      "  unicode: '9.0',\n",
      "  cldr: '31.0.1',\n",
      "  tz: '2017b' },\n",
      "     arch: 'x64',\n",
      "     platform: 'darwin',\n",
      "     release: \n",
      "      { name: 'node',\n",
      "        lts: 'Carbon',\n",
      "        sourceUrl: 'https://nodejs.org/download/release/v8.9.3/node-v8.9.3.tar.gz',\n",
      "        headersUrl: 'https://nodejs.org/download/release/v8.9.3/node-v8.9.3-headers.tar.gz' },\n",
      "     argv: [ '/Users/hungrated/.nvm/versions/node/v8.9.3/bin/node' ],\n",
      "     execArgv: \n",
      "      [ '--eval',\n",
      "        '(function() {\\n/*\\n * BSD 3-Clause License\\n *\\n * Copyright (c) 2015, Nicolas Riesco and others as credited in the AUTHORS file\\n * All rights reserved.\\n *\\n * Redistribution and use in source and binary forms, with or without\\n * modification, are permitted provided that the following conditions are met:\\n *\\n * 1. Redistributions of source code must retain the above copyright notice,\\n * this list of conditions and the following disclaimer.\\n *\\n * 2. Redistributions in binary form must reproduce the above copyright notice,\\n * this list of conditions and the following disclaimer in the documentation\\n * and/or other materials provided with the distribution.\\n *\\n * 3. Neither the name of the copyright holder nor the names of its contributors\\n * may be used to endorse or promote products derived from this software without\\n * specific prior written permission.\\n *\\n * THIS SOFTWARE IS PROVIDED BY THE COPYRIGHT HOLDERS AND CONTRIBUTORS \"AS IS\"\\n * AND ANY EXPRESS OR IMPLIED WARRANTIES, INCLUDING, BUT NOT LIMITED TO, THE\\n * IMPLIED WARRANTIES OF MERCHANTABILITY AND FITNESS FOR A PARTICULAR PURPOSE\\n * ARE DISCLAIMED. IN NO EVENT SHALL THE COPYRIGHT HOLDER OR CONTRIBUTORS BE\\n * LIABLE FOR ANY DIRECT, INDIRECT, INCIDENTAL, SPECIAL, EXEMPLARY, OR\\n * CONSEQUENTIAL DAMAGES (INCLUDING, BUT NOT LIMITED TO, PROCUREMENT OF\\n * SUBSTITUTE GOODS OR SERVICES; LOSS OF USE, DATA, OR PROFITS; OR BUSINESS\\n * INTERRUPTION) HOWEVER CAUSED AND ON ANY THEORY OF LIABILITY, WHETHER IN\\n * CONTRACT, STRICT LIABILITY, OR TORT (INCLUDING NEGLIGENCE OR OTHERWISE)\\n * ARISING IN ANY WAY OUT OF THE USE OF THIS SOFTWARE, EVEN IF ADVISED OF THE\\n * POSSIBILITY OF SUCH DAMAGE.\\n *\\n */\\n\\nvar console = require(\"console\");\\nvar stream = require(\"stream\");\\nvar util = require(\"util\");\\n\\nfunction Stdout(id, opt) {\\n    stream.Transform.call(this, opt);\\n\\n    this._id = id;\\n}\\n\\nStdout.prototype = Object.create(stream.Transform.prototype);\\n\\nStdout.prototype._transform = function(data, encoding, callback) {\\n    var response = {\\n        id: this._id,\\n        stdout: data.toString(),\\n    };\\n    log(\"STDOUT:\", response);\\n    process.send(response);\\n    this.push(data);\\n    callback();\\n};\\n\\nfunction Stderr(id, opt) {\\n    stream.Transform.call(this, opt);\\n\\n    this._id = id;\\n}\\n\\nStderr.prototype = Object.create(stream.Transform.prototype);\\n\\nStderr.prototype._transform = function(data, encoding, callback) {\\n    var response = {\\n        id: this._id,\\n        stderr: data.toString(),\\n    };\\n    log(\"STDERR:\", response);\\n    process.send(response);\\n    this.push(data);\\n    callback();\\n};\\n\\nfunction Context(requester, id) {\\n    this.requester = requester;\\n    this.id = id;\\n\\n    this.stdout = new Stdout(this.id);\\n    this.stderr = new Stderr(this.id);\\n    this.console = new console.Console(this.stdout, this.stderr);\\n\\n    this._capturedStdout = null;\\n    this._capturedStderr = null;\\n    this._capturedConsole = null;\\n\\n    this._async = false;\\n    this._done = false;\\n\\n    // `$$` provides an interface for users to access the execution context\\n    this.$$ = Object.create(null);\\n\\n    this.$$.async = (function async(value) {\\n        this._async = (arguments.length === 0) ? true : !!value;\\n        return this._async;\\n    }).bind(this);\\n\\n    this.$$.done = (function done(result) {\\n        this.send((arguments.length === 0) ? {\\n            end: true,\\n        } : {\\n            mime: toMime(result),\\n            end: true,\\n        });\\n    }).bind(this);\\n\\n    this.$$.sendResult = resolvePromise.call(this,\\n        function sendResult(result, keepAlive) {\\n            if (keepAlive) this.$$.async();\\n\\n            this.send({\\n                mime: toMime(result),\\n                end: !keepAlive,\\n            });\\n        }\\n    );\\n\\n    this.$$.sendError = resolvePromise.call(this,\\n        function sendError(error, keepAlive) {\\n            if (keepAlive) this.$$.async();\\n\\n            this.send({\\n                error: formatError(error),\\n                end: !keepAlive,\\n            });\\n        }\\n    );\\n\\n    this.$$.mime = resolvePromise.call(this,\\n        function sendMime(mimeBundle, keepAlive) {\\n            if (keepAlive) this.$$.async();\\n\\n            this.send({\\n                mime: mimeBundle,\\n                end: !keepAlive,\\n            });\\n        }\\n    );\\n\\n    this.$$.text = resolvePromise.call(this,\\n        function sendText(text, keepAlive) {\\n            if (keepAlive) this.$$.async();\\n\\n            this.send({\\n                mime: {\\n                    \"text/plain\": text,\\n                },\\n                end: !keepAlive,\\n            });\\n        }\\n    );\\n\\n    this.$$.html = resolvePromise.call(this,\\n        function sendHtml(html, keepAlive) {\\n            if (keepAlive) this.$$.async();\\n\\n            this.send({\\n                mime: {\\n                    \"text/html\": html,\\n                },\\n                end: !keepAlive,\\n            });\\n        }\\n    );\\n\\n    this.$$.svg = resolvePromise.call(this,\\n        function sendSvg(svg, keepAlive) {\\n            if (keepAlive) this.$$.async();\\n\\n            this.send({\\n                mime: {\\n                    \"image/svg+xml\": svg,\\n                },\\n                end: !keepAlive,\\n            });\\n        }\\n    );\\n\\n    this.$$.png = resolvePromise.call(this,\\n        function sendPng(png, keepAlive) {\\n            if (keepAlive) this.$$.async();\\n\\n            this.send({\\n                mime: {\\n                    \"image/png\": png,\\n                },\\n                end: !keepAlive,\\n            });\\n        }\\n    );\\n\\n    this.$$.jpeg = resolvePromise.call(this,\\n        function sendJpeg(jpeg, keepAlive) {\\n            if (keepAlive) this.$$.async();\\n\\n            this.send({\\n                mime: {\\n                    \"image/jpeg\": jpeg,\\n                },\\n                end: !keepAlive,\\n            });\\n        }\\n    );\\n\\n    this.$$.json = resolvePromise.call(this,\\n        function sendJson(json, keepAlive) {\\n            if (keepAlive) this.$$.async();\\n\\n            this.send({\\n                mime: {\\n                    \"application/json\": json,\\n                },\\n                end: !keepAlive,\\n            });\\n        }\\n    );\\n\\n    this.$$.input = (function input(options, callback) {\\n        this.$$.async();\\n\\n        var inputRequest = {\\n            input: options,\\n        };\\n\\n        var inputCallback;\\n        if (typeof callback === \\'function\\') {\\n            inputCallback = function inputCallback(error, reply) {\\n                callback(error, reply.input);\\n            };\\n        }\\n\\n        var promise = this.requester.send(this, inputRequest, inputCallback);\\n        if (promise) {\\n            return promise.then(function(reply) { return reply.input; });\\n        }\\n    }).bind(this);\\n\\n    this.$$.display = (function createDisplay(id) {\\n        return (arguments.length === 0) ?\\n            new Display(this.id) :\\n            new Display(this.id, id);\\n    }).bind(this);\\n\\n    function isPromise(output) {\\n        if (!global.Promise || typeof global.Promise !== \"function\") {\\n            return false;\\n        }\\n        return output instanceof global.Promise;\\n    }\\n\\n    function resolvePromise(outputHandler) {\\n        return function(output, keepAlive) {\\n            if (isPromise(output)) {\\n                this.$$.async();\\n\\n                output.then(function(resolvedOutput) {\\n                    outputHandler.call(this, resolvedOutput, keepAlive);\\n                }.bind(this)).catch(function(error) {\\n                    this.send({\\n                        error: formatError(error),\\n                        end: true,\\n                    });\\n                }.bind(this));\\n\\n                return;\\n            }\\n\\n            outputHandler.apply(this, arguments);\\n        }.bind(this);\\n    }\\n}\\n\\nContext.prototype.send = function send(message) {\\n    message.id = this.id;\\n\\n    if (this._done) {\\n        log(\"SEND: DROPPED:\", message);\\n        return;\\n    }\\n\\n    if(message.end) {\\n        this._done = true;\\n        this._async = false;\\n    }\\n\\n    log(\"SEND:\", message);\\n\\n    process.send(message);\\n};\\n\\nContext.prototype.captureGlobalContext = function captureGlobalContext() {\\n    this._capturedStdout = process.stdout;\\n    this._capturedStderr = process.stderr;\\n    this._capturedConsole = console;\\n\\n    this.stdout.pipe(this._capturedStdout);\\n    this.stderr.pipe(this._capturedStderr);\\n    this.console.Console = this._capturedConsole.Console;\\n\\n    delete process.stdout;\\n    process.stdout = this.stdout;\\n\\n    delete process.stderr;\\n    process.stderr = this.stderr;\\n\\n    delete global.console;\\n    global.console = this.console;\\n\\n    delete global.$$;\\n    global.$$ = this.$$;\\n\\n    if (typeof global.$$mimer$$ !== \"function\") {\\n        global.$$mimer$$ = defaultMimer;\\n    }\\n\\n    delete global.$$mime$$;\\n    Object.defineProperty(global, \"$$mime$$\", {\\n        set: this.$$.mime,\\n        configurable: true,\\n        enumerable: false,\\n    });\\n\\n    delete global.$$html$$;\\n    Object.defineProperty(global, \"$$html$$\", {\\n        set: this.$$.html,\\n        configurable: true,\\n        enumerable: false,\\n    });\\n\\n    delete global.$$svg$$;\\n    Object.defineProperty(global, \"$$svg$$\", {\\n        set: this.$$.svg,\\n        configurable: true,\\n        enumerable: false,\\n    });\\n\\n    delete global.$$png$$;\\n    Object.defineProperty(global, \"$$png$$\", {\\n        set: this.$$.png,\\n        configurable: true,\\n        enumerable: false,\\n    });\\n\\n    delete global.$$jpeg$$;\\n    Object.defineProperty(global, \"$$jpeg$$\", {\\n        set: this.$$.jpeg,\\n        configurable: true,\\n        enumerable: false,\\n    });\\n\\n    delete global.$$async$$;\\n    Object.defineProperty(global, \"$$async$$\", {\\n        get: (function() {\\n            return this._async;\\n        }).bind(this),\\n        set: (function(value) {\\n            this._async = !!value;\\n        }).bind(this),\\n        configurable: true,\\n        enumerable: false,\\n    });\\n\\n    global.$$done$$ = this.$$.done.bind(this);\\n\\n    if (!global.hasOwnProperty(\"$$defaultMimer$$\")) {\\n        Object.defineProperty(global, \"$$defaultMimer$$\", {\\n            value: defaultMimer,\\n            configurable: false,\\n            writable: false,\\n            enumerable: false,\\n        });\\n    }\\n};\\n\\nContext.prototype.releaseGlobalContext = function releaseGlobalContext() {\\n    if (process.stdout === this.stdout) {\\n        this.stdout.unpipe();\\n\\n        delete process.stdout;\\n        process.stdout = this._capturedStdout;\\n\\n        this._capturedStdout = null;\\n    }\\n\\n    if (process.stderr === this.stderr) {\\n        this.stderr.unpipe();\\n\\n        delete process.stderr;\\n        process.stderr = this._capturedStderr;\\n\\n        this._capturedStderr = null;\\n    }\\n\\n    if (global.console === this.console) {\\n        delete global.console;\\n        global.console = this._capturedConsole;\\n\\n        this._capturedConsole = null;\\n    }\\n};\\n\\nfunction formatError(error) {\\n    return {\\n        ename: (error && error.name) ?\\n            error.name : typeof error,\\n        evalue: (error && error.message) ?\\n            error.message : util.inspect(error),\\n        traceback: (error && error.stack) ?\\n            error.stack.split(\"\\\\n\") : \"\",\\n    };\\n}\\n\\nfunction toMime(result) {\\n    var mimer = (typeof global.$$mimer$$ === \"function\") ?\\n        global.$$mimer$$ :\\n        defaultMimer;\\n    return mimer(result);\\n}\\n\\nfunction defaultMimer(result) {\\n    if (typeof result === \"undefined\") {\\n        return {\\n            \"text/plain\": \"undefined\"\\n        };\\n    }\\n\\n    if (result === null) {\\n        return {\\n            \"text/plain\": \"null\"\\n        };\\n    }\\n\\n    var mime;\\n    if (result._toMime) {\\n        try {\\n            mime = result._toMime();\\n        } catch (error) {}\\n    }\\n    if (typeof mime !== \"object\") {\\n        mime = {};\\n    }\\n\\n    if (!(\"text/plain\" in mime)) {\\n        try {\\n            mime[\"text/plain\"] = util.inspect(result);\\n        } catch (error) {}\\n    }\\n\\n    if (result._toHtml && !(\"text/html\" in mime)) {\\n        try {\\n            mime[\"text/html\"] = result._toHtml();\\n        } catch (error) {}\\n    }\\n\\n    if (result._toSvg && !(\"image/svg+xml\" in mime)) {\\n        try {\\n            mime[\"image/svg+xml\"] = result._toSvg();\\n        } catch (error) {}\\n    }\\n\\n    if (result._toPng && !(\"image/png\" in mime)) {\\n        try {\\n            mime[\"image/png\"] = result._toPng();\\n        } catch (error) {}\\n    }\\n\\n    if (result._toJpeg && !(\"image/jpeg\" in mime)) {\\n        try {\\n            mime[\"image/jpeg\"] = result._toJpeg();\\n        } catch (error) {}\\n    }\\n\\n    return mime;\\n}\\n\\n/*\\n * BSD 3-Clause License\\n *\\n * Copyright (c) 2017, Nicolas Riesco and others as credited in the AUTHORS file\\n * All rights reserved.\\n *\\n * Redistribution and use in source and binary forms, with or without\\n * modification, are permitted provided that the following conditions are met:\\n *\\n * 1. Redistributions of source code must retain the above copyright notice,\\n * this list of conditions and the following disclaimer.\\n *\\n * 2. Redistributions in binary form must reproduce the above copyright notice,\\n * this list of conditions and the following disclaimer in the documentation\\n * and/or other materials provided with the distribution.\\n *\\n * 3. Neither the name of the copyright holder nor the names of its contributors\\n * may be used to endorse or promote products derived from this software without\\n * specific prior written permission.\\n *\\n * THIS SOFTWARE IS PROVIDED BY THE COPYRIGHT HOLDERS AND CONTRIBUTORS \"AS IS\"\\n * AND ANY EXPRESS OR IMPLIED WARRANTIES, INCLUDING, BUT NOT LIMITED TO, THE\\n * IMPLIED WARRANTIES OF MERCHANTABILITY AND FITNESS FOR A PARTICULAR PURPOSE\\n * ARE DISCLAIMED. IN NO EVENT SHALL THE COPYRIGHT HOLDER OR CONTRIBUTORS BE\\n * LIABLE FOR ANY DIRECT, INDIRECT, INCIDENTAL, SPECIAL, EXEMPLARY, OR\\n * CONSEQUENTIAL DAMAGES (INCLUDING, BUT NOT LIMITED TO, PROCUREMENT OF\\n * SUBSTITUTE GOODS OR SERVICES; LOSS OF USE, DATA, OR PROFITS; OR BUSINESS\\n * INTERRUPTION) HOWEVER CAUSED AND ON ANY THEORY OF LIABILITY, WHETHER IN\\n * CONTRACT, STRICT LIABILITY, OR TORT (INCLUDING NEGLIGENCE OR OTHERWISE)\\n * ARISING IN ANY WAY OUT OF THE USE OF THIS SOFTWARE, EVEN IF ADVISED OF THE\\n * POSSIBILITY OF SUCH DAMAGE.\\n *\\n */\\n\\nfunction Display(context_id, display_id) {\\n    var send;\\n\\n    this.mime = function mime(mimeBundle) {\\n        send(mimeBundle);\\n    };\\n\\n    this.text = function text(text) {\\n        send({\"text/plain\": text});\\n    };\\n\\n    this.html = function html(html) {\\n        send({\"text/html\": html});\\n    };\\n\\n    this.svg = function svg(svg) {\\n        send({\"image/svg+xml\": svg});\\n    };\\n\\n    this.png = function png(png) {\\n        send({\"image/png\": png});\\n    };\\n\\n    this.jpeg = function jpeg(jpeg) {\\n        send({\"image/jpeg\": jpeg});\\n    };\\n\\n    this.json = function json(json) {\\n        send({\"application/json\": json});\\n    };\\n\\n    this.close = function close() {\\n        process.send({\\n            id: context_id,\\n            display: {\\n                close: display_id,\\n            },\\n        });\\n    };\\n\\n    if (arguments.length < 2) {\\n        // case: without a display_id\\n        send = function send(mime) {\\n            process.send({\\n                id: context_id,\\n                display: {\\n                    mime: mime,\\n                },\\n            });\\n        };\\n    } else {\\n        // case: with a display_id\\n        send = function send(mime) {\\n            process.send({\\n                id: context_id,\\n                display: {\\n                    display_id: display_id,\\n                    mime: mime,\\n                },\\n            });\\n        };\\n\\n        // open the display_id\\n        process.send({\\n            id: context_id,\\n            display: {\\n                open: display_id,\\n            },\\n        });\\n    }\\n}\\n\\n/*\\n * BSD 3-Clause License\\n *\\n * Copyright (c) 2017, Nicolas Riesco and others as credited in the AUTHORS file\\n * All rights reserved.\\n *\\n * Redistribution and use in source and binary forms, with or without\\n * modification, are permitted provided that the following conditions are met:\\n *\\n * 1. Redistributions of source code must retain the above copyright notice,\\n * this list of conditions and the following disclaimer.\\n *\\n * 2. Redistributions in binary form must reproduce the above copyright notice,\\n * this list of conditions and the following disclaimer in the documentation\\n * and/or other materials provided with the distribution.\\n *\\n * 3. Neither the name of the copyright holder nor the names of its contributors\\n * may be used to endorse or promote products derived from this software without\\n * specific prior written permission.\\n *\\n * THIS SOFTWARE IS PROVIDED BY THE COPYRIGHT HOLDERS AND CONTRIBUTORS \"AS IS\"\\n * AND ANY EXPRESS OR IMPLIED WARRANTIES, INCLUDING, BUT NOT LIMITED TO, THE\\n * IMPLIED WARRANTIES OF MERCHANTABILITY AND FITNESS FOR A PARTICULAR PURPOSE\\n * ARE DISCLAIMED. IN NO EVENT SHALL THE COPYRIGHT HOLDER OR CONTRIBUTORS BE\\n * LIABLE FOR ANY DIRECT, INDIRECT, INCIDENTAL, SPECIAL, EXEMPLARY, OR\\n * CONSEQUENTIAL DAMAGES (INCLUDING, BUT NOT LIMITED TO, PROCUREMENT OF\\n * SUBSTITUTE GOODS OR SERVICES; LOSS OF USE, DATA, OR PROFITS; OR BUSINESS\\n * INTERRUPTION) HOWEVER CAUSED AND ON ANY THEORY OF LIABILITY, WHETHER IN\\n * CONTRACT, STRICT LIABILITY, OR TORT (INCLUDING NEGLIGENCE OR OTHERWISE)\\n * ARISING IN ANY WAY OUT OF THE USE OF THIS SOFTWARE, EVEN IF ADVISED OF THE\\n * POSSIBILITY OF SUCH DAMAGE.\\n *\\n */\\n\\nfunction Requester() {\\n    // id for next request\\n    this.id = 0;\\n\\n    // callback associated with a request (indexed by id)\\n    this.callbacks = {};\\n\\n    // the Promise resolve callback associated with a request (indexed by id)\\n    this.resolves = {};\\n\\n    // the Promise reject callback associated with a request (indexed by id)\\n    this.rejects = {};\\n\\n    // the string to be returned to a request (indexed by id)\\n    this.responses = {};\\n}\\n\\n// send a request\\nRequester.prototype.send = function send(context, request, callback) {\\n    var id = this.id++;\\n\\n    if (callback) {\\n        this.callbacks[id] = callback;\\n    }\\n\\n    var promise;\\n    if (global.Promise) {\\n        promise = new Promise(function(resolve, reject) {\\n            if (!this.responses.hasOwnProperty(id)) {\\n                this.resolves[id] = resolve;\\n                this.rejects[id] = reject;\\n                return;\\n            }\\n\\n            var response = this.responses[id];\\n            delete this.responses[id];\\n            resolve(response);\\n        }.bind(this));\\n    }\\n\\n    request.id = id;\\n\\n    context.send({\\n        request: request,\\n    });\\n\\n    return promise;\\n};\\n\\n// pass reply to the callbacks associated with a request\\nRequester.prototype.receive = function receive(id, reply) {\\n    var callback = this.callbacks[id];\\n    if (callback) {\\n        delete this.callbacks[id];\\n        callback(null, reply);\\n    }\\n    \\n    var resolve = this.resolves[id];\\n    if (resolve) {\\n        delete this.resolves[id];\\n        delete this.rejects[id];\\n        resolve(reply);\\n    }\\n};\\n\\n/*\\n * BSD 3-Clause License\\n *\\n * Copyright (c) 2015, Nicolas Riesco and others as credited in the AUTHORS file\\n * All rights reserved.\\n *\\n * Redistribution and use in source and binary forms, with or without\\n * modification, are permitted provided that the following conditions are met:\\n *\\n * 1. Redistributions of source code must retain the above copyright notice,\\n * this list of conditions and the following disclaimer.\\n *\\n * 2. Redistributions in binary form must reproduce the above copyright notice,\\n * this list of conditions and the following disclaimer in the documentation\\n * and/or other materials provided with the distribution.\\n *\\n * 3. Neither the name of the copyright holder nor the names of its contributors\\n * may be used to endorse or promote products derived from this software without\\n * specific prior written permission.\\n *\\n * THIS SOFTWARE IS PROVIDED BY THE COPYRIGHT HOLDERS AND CONTRIBUTORS \"AS IS\"\\n * AND ANY EXPRESS OR IMPLIED WARRANTIES, INCLUDING, BUT NOT LIMITED TO, THE\\n * IMPLIED WARRANTIES OF MERCHANTABILITY AND FITNESS FOR A PARTICULAR PURPOSE\\n * ARE DISCLAIMED. IN NO EVENT SHALL THE COPYRIGHT HOLDER OR CONTRIBUTORS BE\\n * LIABLE FOR ANY DIRECT, INDIRECT, INCIDENTAL, SPECIAL, EXEMPLARY, OR\\n * CONSEQUENTIAL DAMAGES (INCLUDING, BUT NOT LIMITED TO, PROCUREMENT OF\\n * SUBSTITUTE GOODS OR SERVICES; LOSS OF USE, DATA, OR PROFITS; OR BUSINESS\\n * INTERRUPTION) HOWEVER CAUSED AND ON ANY THEORY OF LIABILITY, WHETHER IN\\n * CONTRACT, STRICT LIABILITY, OR TORT (INCLUDING NEGLIGENCE OR OTHERWISE)\\n * ARISING IN ANY WAY OUT OF THE USE OF THIS SOFTWARE, EVEN IF ADVISED OF THE\\n * POSSIBILITY OF SUCH DAMAGE.\\n *\\n */\\n\\nvar vm = require(\"vm\");\\n\\n// Shared variables\\nvar DEBUG = !!process.env.DEBUG;\\nvar log;\\nvar requester;\\nvar initialContext;\\n\\n// Init IPC server\\ninit();\\n\\nreturn;\\n\\nfunction init() {\\n    // Setup logger\\n    log = DEBUG ?\\n        function log() {\\n            process.send({\\n                log: \"SERVER: \" + util.format.apply(this, arguments),\\n            });\\n        } :\\n        function noop() {};\\n\\n    // Create instance to send requests\\n    requester = new Requester();\\n\\n    // Capture the initial context\\n    // (id left undefined to indicate this is the initial context)\\n    initialContext = new Context(requester);\\n    initialContext.captureGlobalContext();\\n\\n    Object.defineProperty(global, \"$$defaultMimer$$\", {\\n        value: defaultMimer,\\n        configurable: false,\\n        writable: false,\\n        enumerable: false,\\n    });\\n\\n    process.on(\"message\", onMessage.bind(this));\\n\\n    process.on(\"uncaughtException\", onUncaughtException.bind(this));\\n\\n    process.send({\\n        status: \"online\",\\n    });\\n}\\n\\nfunction onUncaughtException(error) {\\n    log(\"UNCAUGHTEXCEPTION:\", error.stack);\\n    process.send({\\n        stderr: error.stack.toString(),\\n    });\\n}\\n\\nfunction onMessage(message) {\\n    log(\"RECEIVED:\", message);\\n\\n    var action = message[0];\\n    var code = message[1];\\n    var id = message[2];\\n\\n    initialContext.releaseGlobalContext();\\n    var context = new Context(requester, id);\\n    context.captureGlobalContext();\\n\\n    try {\\n        if (action === \"getAllPropertyNames\") {\\n            onNameRequest(code, context);\\n        } else if (action === \"inspect\") {\\n            onInspectRequest(code, context);\\n        } else if (action === \"run\") {\\n            onRunRequest(code, context);\\n        } else if (action === \"reply\") {\\n            onReply(message);\\n        } else {\\n            throw new Error(\"NEL: Unhandled action: \" + action);\\n        }\\n    } catch (error) {\\n        context.$$.sendError(error);\\n    }\\n\\n    context.releaseGlobalContext();\\n    initialContext.captureGlobalContext();\\n    initialContext._done = false;\\n}\\n\\nfunction onReply(message) {\\n    var reply = message[1];\\n    var id = message[3];\\n    requester.receive(id, reply);\\n}\\n\\nfunction onNameRequest(code, context) {\\n    var message = {\\n        id: context.id,\\n        names: getAllPropertyNames(run(code)),\\n        end: true,\\n    };\\n    context.send(message);\\n}\\n\\nfunction onInspectRequest(code, context) {\\n    var message = {\\n        id: context.id,\\n        inspection: inspect(run(code)),\\n        end: true,\\n    };\\n    context.send(message);\\n}\\n\\nfunction onRunRequest(code, context) {\\n    var result = run(code);\\n\\n    // If a result has already been sent, do not send this result.\\n    if (context._done) {\\n        return;\\n    }\\n\\n    // If the result is a Promise, send the result fulfilled by the promise\\n    if (isPromise(result)) {\\n        context.$$.sendResult(result);\\n        return;\\n    }\\n\\n    // If async mode has been enabled (and the result is not a Promise),\\n    // do not send this result.\\n    if (context._async) {\\n        return;\\n    }\\n\\n    // If no result has been sent yet and async mode has not been enabled,\\n    // send this result.\\n    context.$$.sendResult(result);\\n\\n    return;\\n\\n    function isPromise(output) {\\n        if (!global.Promise || typeof global.Promise !== \"function\") {\\n            return false;\\n        }\\n        return output instanceof global.Promise;\\n    }\\n}\\n\\nfunction getAllPropertyNames(object) {\\n    var propertyList = [];\\n\\n    if (object === undefined) {\\n        return [];\\n    }\\n\\n    if (object === null) {\\n        return [];\\n    }\\n\\n    var prototype;\\n    if (typeof object === \"boolean\") {\\n        prototype = Boolean.prototype;\\n    } else if (typeof object === \"number\") {\\n        prototype = Number.prototype;\\n    } else if (typeof object === \"string\") {\\n        prototype = String.prototype;\\n    } else {\\n        prototype = object;\\n    }\\n\\n    var prototypeList = [prototype];\\n\\n    function pushToPropertyList(e) {\\n        if (propertyList.indexOf(e) === -1) {\\n            propertyList.push(e);\\n        }\\n    }\\n\\n    while (true) {\\n        var names;\\n        try {\\n            names = Object.getOwnPropertyNames(prototype).sort();\\n        } catch (e) {\\n            break;\\n        }\\n        names.forEach(pushToPropertyList);\\n\\n        prototype = Object.getPrototypeOf(prototype);\\n        if (prototype === null) {\\n            break;\\n        }\\n\\n        if (prototypeList.indexOf(prototype) === -1) {\\n            prototypeList.push(prototype);\\n        }\\n    }\\n\\n    return propertyList;\\n}\\n\\nfunction inspect(object) {\\n    if (object === undefined) {\\n        return {\\n            string: \"undefined\",\\n            type: \"Undefined\",\\n        };\\n    }\\n\\n    if (object === null) {\\n        return {\\n            string: \"null\",\\n            type: \"Null\",\\n        };\\n    }\\n\\n    if (typeof object === \"boolean\") {\\n        return {\\n            string: object ? \"true\" : \"false\",\\n            type: \"Boolean\",\\n            constructorList: [\"Boolean\", \"Object\"],\\n        };\\n    }\\n\\n    if (typeof object === \"number\") {\\n        return {\\n            string: util.inspect(object),\\n            type: \"Number\",\\n            constructorList: [\"Number\", \"Object\"],\\n        };\\n    }\\n\\n    if (typeof object === \"string\") {\\n        return {\\n            string: object,\\n            type: \"String\",\\n            constructorList: [\"String\", \"Object\"],\\n            length: object.length,\\n        };\\n    }\\n\\n    if (typeof object === \"function\") {\\n        return {\\n            string: object.toString(),\\n            type: \"Function\",\\n            constructorList: [\"Function\", \"Object\"],\\n            length: object.length,\\n        };\\n    }\\n\\n    var constructorList = getConstructorList(object);\\n    var result = {\\n        string: toString(object),\\n        type: constructorList[0] || \"\",\\n        constructorList: constructorList,\\n    };\\n\\n    if (\"length\" in object) {\\n        result.length = object.length;\\n    }\\n\\n    return result;\\n\\n    function toString(object) {\\n        try {\\n            return util.inspect(object.valueOf());\\n        } catch (e) {\\n            return util.inspect(object);\\n        }\\n    }\\n\\n    function getConstructorList(object) {\\n        var constructorList = [];\\n\\n        var prototype = Object.getPrototypeOf(object);\\n        while (true) {\\n            try {\\n                constructorList.push(prototype.constructor.name);\\n            } catch (e) {\\n                break;\\n            }\\n            prototype = Object.getPrototypeOf(prototype);\\n        }\\n\\n        return constructorList;\\n    }\\n}\\n\\nfunction run(code) {\\n    return vm.runInThisContext(code);\\n}\\n\\n})();' ],\n",
      "     env: \n",
      "      { TERM_SESSION_ID: 'w0t0p0:CA18AD13-F991-4B26-ACC1-B1B95DCB8A44',\n",
      "        SSH_AUTH_SOCK: '/private/tmp/com.apple.launchd.EjTOtl7FVK/Listeners',\n",
      "        Apple_PubSub_Socket_Render: '/private/tmp/com.apple.launchd.iyzIus0jvI/Render',\n",
      "        COLORFGBG: '12;8',\n",
      "        ITERM_PROFILE: 'Default',\n",
      "        XPC_FLAGS: '0x0',\n",
      "        PWD: '/Users/hungrated',\n",
      "        SHELL: '/bin/zsh',\n",
      "        SECURITYSESSIONID: '186a9',\n",
      "        TERM_PROGRAM_VERSION: '3.1.4',\n",
      "        TERM_PROGRAM: 'iTerm.app',\n",
      "        PATH: '/anaconda3/bin:/anaconda3/bin:/Users/hungrated/.hive/bin:/Users/hungrated/.hive/conf:/Users/hungrated/.hadoop/bin/:/anaconda3/bin:/Library/Frameworks/Python.framework/Versions/3.6/bin:/usr/local/sbin:.:/Users/hungrated/.nvm/versions/node/v8.9.3/bin:/usr/local/bin:/usr/bin:/bin:/usr/sbin:/sbin:/usr/local/mysql-8.0.12-macos10.13-x86_64/bin:/Library/Java/JavaVirtualMachines/jdk1.8.0_161.jdk/Contents/Home/bin:/Users/hungrated/Library/Android/sdk/tools:/Users/hungrated/Library/Android/sdk/platform-tools:/Users/hungrated/.maven/bin:/Users/hungrated/.chromedriver:/Users/hungrated/.scala/bin:/Users/hungrated/.spark/bin:/Users/hungrated/.spark:/Users/hungrated/Library/Android/sdk/tools:/Users/hungrated/Library/Android/sdk/tools/bin:/Users/hungrated/Library/Android/sdk/platform-tools:/Users/hungrated/Library/Android/sdk/emulator:/Users/hungrated/.nvm/versions/node/v8.9.3/bin/',\n",
      "        COLORTERM: 'truecolor',\n",
      "        COMMAND_MODE: 'unix2003',\n",
      "        TERM: 'xterm-256color',\n",
      "        HOME: '/Users/hungrated',\n",
      "        TMPDIR: '/var/folders/3p/8897fp6n5hx2rctdb75429lw0000gn/T/',\n",
      "        USER: 'hungrated',\n",
      "        XPC_SERVICE_NAME: '0',\n",
      "        LOGNAME: 'hungrated',\n",
      "        __CF_USER_TEXT_ENCODING: '0x1F5:0x19:0x34',\n",
      "        ITERM_SESSION_ID: 'w0t0p0:CA18AD13-F991-4B26-ACC1-B1B95DCB8A44',\n",
      "        SHLVL: '1',\n",
      "        OLDPWD: '/Users/hungrated',\n",
      "        ZSH: '/Users/hungrated/.oh-my-zsh',\n",
      "        PAGER: 'less',\n",
      "        LESS: '-R',\n",
      "        LSCOLORS: 'Gxfxcxdxbxegedabagacad',\n",
      "        LC_CTYPE: 'UTF-8',\n",
      "        NVM_DIR: '/Users/hungrated/.nvm',\n",
      "        NVM_CD_FLAGS: '-q',\n",
      "        NVM_BIN: '/Users/hungrated/.nvm/versions/node/v8.9.3/bin',\n",
      "        JAVA_HOME: '/Library/Java/JavaVirtualMachines/jdk1.8.0_161.jdk/Contents/Home',\n",
      "        CLASS_PATH: '/Library/Java/JavaVirtualMachines/jdk1.8.0_161.jdk/Contents/Home/lib',\n",
      "        ANDROID_HOME: '/Users/hungrated/Library/Android/sdk',\n",
      "        M2_HOME: '/Users/hungrated/.maven',\n",
      "        HADOOP_HOME: '/Users/hungrated/.hadoop',\n",
      "        HADOOP_COMMON_LIB_NATIVE_DIR: '/Users/hungrated/.hadoop/lib/native',\n",
      "        HADOOP_OPTS: '-Djava.library.path=/Users/hungrated/.hadoop/lib',\n",
      "        HIVE_HOME: '/Users/hungrated/.hive',\n",
      "        SCALA_HOME: '/Users/hungrated/.scala',\n",
      "        SPARK_HOME: '/Users/hungrated/.spark',\n",
      "        _: '/anaconda3/bin/jupyter',\n",
      "        JPY_PARENT_PID: '22327' },\n",
      "     pid: 22338,\n",
      "     features: \n",
      "      { debug: false,\n",
      "        uv: true,\n",
      "        ipv6: true,\n",
      "        tls_npn: true,\n",
      "        tls_alpn: true,\n",
      "        tls_sni: true,\n",
      "        tls_ocsp: true,\n",
      "        tls: true },\n",
      "     _needImmediateCallback: false,\n",
      "     _eval: '(function() {\\n/*\\n * BSD 3-Clause License\\n *\\n * Copyright (c) 2015, Nicolas Riesco and others as credited in the AUTHORS file\\n * All rights reserved.\\n *\\n * Redistribution and use in source and binary forms, with or without\\n * modification, are permitted provided that the following conditions are met:\\n *\\n * 1. Redistributions of source code must retain the above copyright notice,\\n * this list of conditions and the following disclaimer.\\n *\\n * 2. Redistributions in binary form must reproduce the above copyright notice,\\n * this list of conditions and the following disclaimer in the documentation\\n * and/or other materials provided with the distribution.\\n *\\n * 3. Neither the name of the copyright holder nor the names of its contributors\\n * may be used to endorse or promote products derived from this software without\\n * specific prior written permission.\\n *\\n * THIS SOFTWARE IS PROVIDED BY THE COPYRIGHT HOLDERS AND CONTRIBUTORS \"AS IS\"\\n * AND ANY EXPRESS OR IMPLIED WARRANTIES, INCLUDING, BUT NOT LIMITED TO, THE\\n * IMPLIED WARRANTIES OF MERCHANTABILITY AND FITNESS FOR A PARTICULAR PURPOSE\\n * ARE DISCLAIMED. IN NO EVENT SHALL THE COPYRIGHT HOLDER OR CONTRIBUTORS BE\\n * LIABLE FOR ANY DIRECT, INDIRECT, INCIDENTAL, SPECIAL, EXEMPLARY, OR\\n * CONSEQUENTIAL DAMAGES (INCLUDING, BUT NOT LIMITED TO, PROCUREMENT OF\\n * SUBSTITUTE GOODS OR SERVICES; LOSS OF USE, DATA, OR PROFITS; OR BUSINESS\\n * INTERRUPTION) HOWEVER CAUSED AND ON ANY THEORY OF LIABILITY, WHETHER IN\\n * CONTRACT, STRICT LIABILITY, OR TORT (INCLUDING NEGLIGENCE OR OTHERWISE)\\n * ARISING IN ANY WAY OUT OF THE USE OF THIS SOFTWARE, EVEN IF ADVISED OF THE\\n * POSSIBILITY OF SUCH DAMAGE.\\n *\\n */\\n\\nvar console = require(\"console\");\\nvar stream = require(\"stream\");\\nvar util = require(\"util\");\\n\\nfunction Stdout(id, opt) {\\n    stream.Transform.call(this, opt);\\n\\n    this._id = id;\\n}\\n\\nStdout.prototype = Object.create(stream.Transform.prototype);\\n\\nStdout.prototype._transform = function(data, encoding, callback) {\\n    var response = {\\n        id: this._id,\\n        stdout: data.toString(),\\n    };\\n    log(\"STDOUT:\", response);\\n    process.send(response);\\n    this.push(data);\\n    callback();\\n};\\n\\nfunction Stderr(id, opt) {\\n    stream.Transform.call(this, opt);\\n\\n    this._id = id;\\n}\\n\\nStderr.prototype = Object.create(stream.Transform.prototype);\\n\\nStderr.prototype._transform = function(data, encoding, callback) {\\n    var response = {\\n        id: this._id,\\n        stderr: data.toString(),\\n    };\\n    log(\"STDERR:\", response);\\n    process.send(response);\\n    this.push(data);\\n    callback();\\n};\\n\\nfunction Context(requester, id) {\\n    this.requester = requester;\\n    this.id = id;\\n\\n    this.stdout = new Stdout(this.id);\\n    this.stderr = new Stderr(this.id);\\n    this.console = new console.Console(this.stdout, this.stderr);\\n\\n    this._capturedStdout = null;\\n    this._capturedStderr = null;\\n    this._capturedConsole = null;\\n\\n    this._async = false;\\n    this._done = false;\\n\\n    // `$$` provides an interface for users to access the execution context\\n    this.$$ = Object.create(null);\\n\\n    this.$$.async = (function async(value) {\\n        this._async = (arguments.length === 0) ? true : !!value;\\n        return this._async;\\n    }).bind(this);\\n\\n    this.$$.done = (function done(result) {\\n        this.send((arguments.length === 0) ? {\\n            end: true,\\n        } : {\\n            mime: toMime(result),\\n            end: true,\\n        });\\n    }).bind(this);\\n\\n    this.$$.sendResult = resolvePromise.call(this,\\n        function sendResult(result, keepAlive) {\\n            if (keepAlive) this.$$.async();\\n\\n            this.send({\\n                mime: toMime(result),\\n                end: !keepAlive,\\n            });\\n        }\\n    );\\n\\n    this.$$.sendError = resolvePromise.call(this,\\n        function sendError(error, keepAlive) {\\n            if (keepAlive) this.$$.async();\\n\\n            this.send({\\n                error: formatError(error),\\n                end: !keepAlive,\\n            });\\n        }\\n    );\\n\\n    this.$$.mime = resolvePromise.call(this,\\n        function sendMime(mimeBundle, keepAlive) {\\n            if (keepAlive) this.$$.async();\\n\\n            this.send({\\n                mime: mimeBundle,\\n                end: !keepAlive,\\n            });\\n        }\\n    );\\n\\n    this.$$.text = resolvePromise.call(this,\\n        function sendText(text, keepAlive) {\\n            if (keepAlive) this.$$.async();\\n\\n            this.send({\\n                mime: {\\n                    \"text/plain\": text,\\n                },\\n                end: !keepAlive,\\n            });\\n        }\\n    );\\n\\n    this.$$.html = resolvePromise.call(this,\\n        function sendHtml(html, keepAlive) {\\n            if (keepAlive) this.$$.async();\\n\\n            this.send({\\n                mime: {\\n                    \"text/html\": html,\\n                },\\n                end: !keepAlive,\\n            });\\n        }\\n    );\\n\\n    this.$$.svg = resolvePromise.call(this,\\n        function sendSvg(svg, keepAlive) {\\n            if (keepAlive) this.$$.async();\\n\\n            this.send({\\n                mime: {\\n                    \"image/svg+xml\": svg,\\n                },\\n                end: !keepAlive,\\n            });\\n        }\\n    );\\n\\n    this.$$.png = resolvePromise.call(this,\\n        function sendPng(png, keepAlive) {\\n            if (keepAlive) this.$$.async();\\n\\n            this.send({\\n                mime: {\\n                    \"image/png\": png,\\n                },\\n                end: !keepAlive,\\n            });\\n        }\\n    );\\n\\n    this.$$.jpeg = resolvePromise.call(this,\\n        function sendJpeg(jpeg, keepAlive) {\\n            if (keepAlive) this.$$.async();\\n\\n            this.send({\\n                mime: {\\n                    \"image/jpeg\": jpeg,\\n                },\\n                end: !keepAlive,\\n            });\\n        }\\n    );\\n\\n    this.$$.json = resolvePromise.call(this,\\n        function sendJson(json, keepAlive) {\\n            if (keepAlive) this.$$.async();\\n\\n            this.send({\\n                mime: {\\n                    \"application/json\": json,\\n                },\\n                end: !keepAlive,\\n            });\\n        }\\n    );\\n\\n    this.$$.input = (function input(options, callback) {\\n        this.$$.async();\\n\\n        var inputRequest = {\\n            input: options,\\n        };\\n\\n        var inputCallback;\\n        if (typeof callback === \\'function\\') {\\n            inputCallback = function inputCallback(error, reply) {\\n                callback(error, reply.input);\\n            };\\n        }\\n\\n        var promise = this.requester.send(this, inputRequest, inputCallback);\\n        if (promise) {\\n            return promise.then(function(reply) { return reply.input; });\\n        }\\n    }).bind(this);\\n\\n    this.$$.display = (function createDisplay(id) {\\n        return (arguments.length === 0) ?\\n            new Display(this.id) :\\n            new Display(this.id, id);\\n    }).bind(this);\\n\\n    function isPromise(output) {\\n        if (!global.Promise || typeof global.Promise !== \"function\") {\\n            return false;\\n        }\\n        return output instanceof global.Promise;\\n    }\\n\\n    function resolvePromise(outputHandler) {\\n        return function(output, keepAlive) {\\n            if (isPromise(output)) {\\n                this.$$.async();\\n\\n                output.then(function(resolvedOutput) {\\n                    outputHandler.call(this, resolvedOutput, keepAlive);\\n                }.bind(this)).catch(function(error) {\\n                    this.send({\\n                        error: formatError(error),\\n                        end: true,\\n                    });\\n                }.bind(this));\\n\\n                return;\\n            }\\n\\n            outputHandler.apply(this, arguments);\\n        }.bind(this);\\n    }\\n}\\n\\nContext.prototype.send = function send(message) {\\n    message.id = this.id;\\n\\n    if (this._done) {\\n        log(\"SEND: DROPPED:\", message);\\n        return;\\n    }\\n\\n    if(message.end) {\\n        this._done = true;\\n        this._async = false;\\n    }\\n\\n    log(\"SEND:\", message);\\n\\n    process.send(message);\\n};\\n\\nContext.prototype.captureGlobalContext = function captureGlobalContext() {\\n    this._capturedStdout = process.stdout;\\n    this._capturedStderr = process.stderr;\\n    this._capturedConsole = console;\\n\\n    this.stdout.pipe(this._capturedStdout);\\n    this.stderr.pipe(this._capturedStderr);\\n    this.console.Console = this._capturedConsole.Console;\\n\\n    delete process.stdout;\\n    process.stdout = this.stdout;\\n\\n    delete process.stderr;\\n    process.stderr = this.stderr;\\n\\n    delete global.console;\\n    global.console = this.console;\\n\\n    delete global.$$;\\n    global.$$ = this.$$;\\n\\n    if (typeof global.$$mimer$$ !== \"function\") {\\n        global.$$mimer$$ = defaultMimer;\\n    }\\n\\n    delete global.$$mime$$;\\n    Object.defineProperty(global, \"$$mime$$\", {\\n        set: this.$$.mime,\\n        configurable: true,\\n        enumerable: false,\\n    });\\n\\n    delete global.$$html$$;\\n    Object.defineProperty(global, \"$$html$$\", {\\n        set: this.$$.html,\\n        configurable: true,\\n        enumerable: false,\\n    });\\n\\n    delete global.$$svg$$;\\n    Object.defineProperty(global, \"$$svg$$\", {\\n        set: this.$$.svg,\\n        configurable: true,\\n        enumerable: false,\\n    });\\n\\n    delete global.$$png$$;\\n    Object.defineProperty(global, \"$$png$$\", {\\n        set: this.$$.png,\\n        configurable: true,\\n        enumerable: false,\\n    });\\n\\n    delete global.$$jpeg$$;\\n    Object.defineProperty(global, \"$$jpeg$$\", {\\n        set: this.$$.jpeg,\\n        configurable: true,\\n        enumerable: false,\\n    });\\n\\n    delete global.$$async$$;\\n    Object.defineProperty(global, \"$$async$$\", {\\n        get: (function() {\\n            return this._async;\\n        }).bind(this),\\n        set: (function(value) {\\n            this._async = !!value;\\n        }).bind(this),\\n        configurable: true,\\n        enumerable: false,\\n    });\\n\\n    global.$$done$$ = this.$$.done.bind(this);\\n\\n    if (!global.hasOwnProperty(\"$$defaultMimer$$\")) {\\n        Object.defineProperty(global, \"$$defaultMimer$$\", {\\n            value: defaultMimer,\\n            configurable: false,\\n            writable: false,\\n            enumerable: false,\\n        });\\n    }\\n};\\n\\nContext.prototype.releaseGlobalContext = function releaseGlobalContext() {\\n    if (process.stdout === this.stdout) {\\n        this.stdout.unpipe();\\n\\n        delete process.stdout;\\n        process.stdout = this._capturedStdout;\\n\\n        this._capturedStdout = null;\\n    }\\n\\n    if (process.stderr === this.stderr) {\\n        this.stderr.unpipe();\\n\\n        delete process.stderr;\\n        process.stderr = this._capturedStderr;\\n\\n        this._capturedStderr = null;\\n    }\\n\\n    if (global.console === this.console) {\\n        delete global.console;\\n        global.console = this._capturedConsole;\\n\\n        this._capturedConsole = null;\\n    }\\n};\\n\\nfunction formatError(error) {\\n    return {\\n        ename: (error && error.name) ?\\n            error.name : typeof error,\\n        evalue: (error && error.message) ?\\n            error.message : util.inspect(error),\\n        traceback: (error && error.stack) ?\\n            error.stack.split(\"\\\\n\") : \"\",\\n    };\\n}\\n\\nfunction toMime(result) {\\n    var mimer = (typeof global.$$mimer$$ === \"function\") ?\\n        global.$$mimer$$ :\\n        defaultMimer;\\n    return mimer(result);\\n}\\n\\nfunction defaultMimer(result) {\\n    if (typeof result === \"undefined\") {\\n        return {\\n            \"text/plain\": \"undefined\"\\n        };\\n    }\\n\\n    if (result === null) {\\n        return {\\n            \"text/plain\": \"null\"\\n        };\\n    }\\n\\n    var mime;\\n    if (result._toMime) {\\n        try {\\n            mime = result._toMime();\\n        } catch (error) {}\\n    }\\n    if (typeof mime !== \"object\") {\\n        mime = {};\\n    }\\n\\n    if (!(\"text/plain\" in mime)) {\\n        try {\\n            mime[\"text/plain\"] = util.inspect(result);\\n        } catch (error) {}\\n    }\\n\\n    if (result._toHtml && !(\"text/html\" in mime)) {\\n        try {\\n            mime[\"text/html\"] = result._toHtml();\\n        } catch (error) {}\\n    }\\n\\n    if (result._toSvg && !(\"image/svg+xml\" in mime)) {\\n        try {\\n            mime[\"image/svg+xml\"] = result._toSvg();\\n        } catch (error) {}\\n    }\\n\\n    if (result._toPng && !(\"image/png\" in mime)) {\\n        try {\\n            mime[\"image/png\"] = result._toPng();\\n        } catch (error) {}\\n    }\\n\\n    if (result._toJpeg && !(\"image/jpeg\" in mime)) {\\n        try {\\n            mime[\"image/jpeg\"] = result._toJpeg();\\n        } catch (error) {}\\n    }\\n\\n    return mime;\\n}\\n\\n/*\\n * BSD 3-Clause License\\n *\\n * Copyright (c) 2017, Nicolas Riesco and others as credited in the AUTHORS file\\n * All rights reserved.\\n *\\n * Redistribution and use in source and binary forms, with or without\\n * modification, are permitted provided that the following conditions are met:\\n *\\n * 1. Redistributions of source code must retain the above copyright notice,\\n * this list of conditions and the following disclaimer.\\n *\\n * 2. Redistributions in binary form must reproduce the above copyright notice,\\n * this list of conditions and the following disclaimer in the documentation\\n * and/or other materials provided with the distribution.\\n *\\n * 3. Neither the name of the copyright holder nor the names of its contributors\\n * may be used to endorse or promote products derived from this software without\\n * specific prior written permission.\\n *\\n * THIS SOFTWARE IS PROVIDED BY THE COPYRIGHT HOLDERS AND CONTRIBUTORS \"AS IS\"\\n * AND ANY EXPRESS OR IMPLIED WARRANTIES, INCLUDING, BUT NOT LIMITED TO, THE\\n * IMPLIED WARRANTIES OF MERCHANTABILITY AND FITNESS FOR A PARTICULAR PURPOSE\\n * ARE DISCLAIMED. IN NO EVENT SHALL THE COPYRIGHT HOLDER OR CONTRIBUTORS BE\\n * LIABLE FOR ANY DIRECT, INDIRECT, INCIDENTAL, SPECIAL, EXEMPLARY, OR\\n * CONSEQUENTIAL DAMAGES (INCLUDING, BUT NOT LIMITED TO, PROCUREMENT OF\\n * SUBSTITUTE GOODS OR SERVICES; LOSS OF USE, DATA, OR PROFITS; OR BUSINESS\\n * INTERRUPTION) HOWEVER CAUSED AND ON ANY THEORY OF LIABILITY, WHETHER IN\\n * CONTRACT, STRICT LIABILITY, OR TORT (INCLUDING NEGLIGENCE OR OTHERWISE)\\n * ARISING IN ANY WAY OUT OF THE USE OF THIS SOFTWARE, EVEN IF ADVISED OF THE\\n * POSSIBILITY OF SUCH DAMAGE.\\n *\\n */\\n\\nfunction Display(context_id, display_id) {\\n    var send;\\n\\n    this.mime = function mime(mimeBundle) {\\n        send(mimeBundle);\\n    };\\n\\n    this.text = function text(text) {\\n        send({\"text/plain\": text});\\n    };\\n\\n    this.html = function html(html) {\\n        send({\"text/html\": html});\\n    };\\n\\n    this.svg = function svg(svg) {\\n        send({\"image/svg+xml\": svg});\\n    };\\n\\n    this.png = function png(png) {\\n        send({\"image/png\": png});\\n    };\\n\\n    this.jpeg = function jpeg(jpeg) {\\n        send({\"image/jpeg\": jpeg});\\n    };\\n\\n    this.json = function json(json) {\\n        send({\"application/json\": json});\\n    };\\n\\n    this.close = function close() {\\n        process.send({\\n            id: context_id,\\n            display: {\\n                close: display_id,\\n            },\\n        });\\n    };\\n\\n    if (arguments.length < 2) {\\n        // case: without a display_id\\n        send = function send(mime) {\\n            process.send({\\n                id: context_id,\\n                display: {\\n                    mime: mime,\\n                },\\n            });\\n        };\\n    } else {\\n        // case: with a display_id\\n        send = function send(mime) {\\n            process.send({\\n                id: context_id,\\n                display: {\\n                    display_id: display_id,\\n                    mime: mime,\\n                },\\n            });\\n        };\\n\\n        // open the display_id\\n        process.send({\\n            id: context_id,\\n            display: {\\n                open: display_id,\\n            },\\n        });\\n    }\\n}\\n\\n/*\\n * BSD 3-Clause License\\n *\\n * Copyright (c) 2017, Nicolas Riesco and others as credited in the AUTHORS file\\n * All rights reserved.\\n *\\n * Redistribution and use in source and binary forms, with or without\\n * modification, are permitted provided that the following conditions are met:\\n *\\n * 1. Redistributions of source code must retain the above copyright notice,\\n * this list of conditions and the following disclaimer.\\n *\\n * 2. Redistributions in binary form must reproduce the above copyright notice,\\n * this list of conditions and the following disclaimer in the documentation\\n * and/or other materials provided with the distribution.\\n *\\n * 3. Neither the name of the copyright holder nor the names of its contributors\\n * may be used to endorse or promote products derived from this software without\\n * specific prior written permission.\\n *\\n * THIS SOFTWARE IS PROVIDED BY THE COPYRIGHT HOLDERS AND CONTRIBUTORS \"AS IS\"\\n * AND ANY EXPRESS OR IMPLIED WARRANTIES, INCLUDING, BUT NOT LIMITED TO, THE\\n * IMPLIED WARRANTIES OF MERCHANTABILITY AND FITNESS FOR A PARTICULAR PURPOSE\\n * ARE DISCLAIMED. IN NO EVENT SHALL THE COPYRIGHT HOLDER OR CONTRIBUTORS BE\\n * LIABLE FOR ANY DIRECT, INDIRECT, INCIDENTAL, SPECIAL, EXEMPLARY, OR\\n * CONSEQUENTIAL DAMAGES (INCLUDING, BUT NOT LIMITED TO, PROCUREMENT OF\\n * SUBSTITUTE GOODS OR SERVICES; LOSS OF USE, DATA, OR PROFITS; OR BUSINESS\\n * INTERRUPTION) HOWEVER CAUSED AND ON ANY THEORY OF LIABILITY, WHETHER IN\\n * CONTRACT, STRICT LIABILITY, OR TORT (INCLUDING NEGLIGENCE OR OTHERWISE)\\n * ARISING IN ANY WAY OUT OF THE USE OF THIS SOFTWARE, EVEN IF ADVISED OF THE\\n * POSSIBILITY OF SUCH DAMAGE.\\n *\\n */\\n\\nfunction Requester() {\\n    // id for next request\\n    this.id = 0;\\n\\n    // callback associated with a request (indexed by id)\\n    this.callbacks = {};\\n\\n    // the Promise resolve callback associated with a request (indexed by id)\\n    this.resolves = {};\\n\\n    // the Promise reject callback associated with a request (indexed by id)\\n    this.rejects = {};\\n\\n    // the string to be returned to a request (indexed by id)\\n    this.responses = {};\\n}\\n\\n// send a request\\nRequester.prototype.send = function send(context, request, callback) {\\n    var id = this.id++;\\n\\n    if (callback) {\\n        this.callbacks[id] = callback;\\n    }\\n\\n    var promise;\\n    if (global.Promise) {\\n        promise = new Promise(function(resolve, reject) {\\n            if (!this.responses.hasOwnProperty(id)) {\\n                this.resolves[id] = resolve;\\n                this.rejects[id] = reject;\\n                return;\\n            }\\n\\n            var response = this.responses[id];\\n            delete this.responses[id];\\n            resolve(response);\\n        }.bind(this));\\n    }\\n\\n    request.id = id;\\n\\n    context.send({\\n        request: request,\\n    });\\n\\n    return promise;\\n};\\n\\n// pass reply to the callbacks associated with a request\\nRequester.prototype.receive = function receive(id, reply) {\\n    var callback = this.callbacks[id];\\n    if (callback) {\\n        delete this.callbacks[id];\\n        callback(null, reply);\\n    }\\n    \\n    var resolve = this.resolves[id];\\n    if (resolve) {\\n        delete this.resolves[id];\\n        delete this.rejects[id];\\n        resolve(reply);\\n    }\\n};\\n\\n/*\\n * BSD 3-Clause License\\n *\\n * Copyright (c) 2015, Nicolas Riesco and others as credited in the AUTHORS file\\n * All rights reserved.\\n *\\n * Redistribution and use in source and binary forms, with or without\\n * modification, are permitted provided that the following conditions are met:\\n *\\n * 1. Redistributions of source code must retain the above copyright notice,\\n * this list of conditions and the following disclaimer.\\n *\\n * 2. Redistributions in binary form must reproduce the above copyright notice,\\n * this list of conditions and the following disclaimer in the documentation\\n * and/or other materials provided with the distribution.\\n *\\n * 3. Neither the name of the copyright holder nor the names of its contributors\\n * may be used to endorse or promote products derived from this software without\\n * specific prior written permission.\\n *\\n * THIS SOFTWARE IS PROVIDED BY THE COPYRIGHT HOLDERS AND CONTRIBUTORS \"AS IS\"\\n * AND ANY EXPRESS OR IMPLIED WARRANTIES, INCLUDING, BUT NOT LIMITED TO, THE\\n * IMPLIED WARRANTIES OF MERCHANTABILITY AND FITNESS FOR A PARTICULAR PURPOSE\\n * ARE DISCLAIMED. IN NO EVENT SHALL THE COPYRIGHT HOLDER OR CONTRIBUTORS BE\\n * LIABLE FOR ANY DIRECT, INDIRECT, INCIDENTAL, SPECIAL, EXEMPLARY, OR\\n * CONSEQUENTIAL DAMAGES (INCLUDING, BUT NOT LIMITED TO, PROCUREMENT OF\\n * SUBSTITUTE GOODS OR SERVICES; LOSS OF USE, DATA, OR PROFITS; OR BUSINESS\\n * INTERRUPTION) HOWEVER CAUSED AND ON ANY THEORY OF LIABILITY, WHETHER IN\\n * CONTRACT, STRICT LIABILITY, OR TORT (INCLUDING NEGLIGENCE OR OTHERWISE)\\n * ARISING IN ANY WAY OUT OF THE USE OF THIS SOFTWARE, EVEN IF ADVISED OF THE\\n * POSSIBILITY OF SUCH DAMAGE.\\n *\\n */\\n\\nvar vm = require(\"vm\");\\n\\n// Shared variables\\nvar DEBUG = !!process.env.DEBUG;\\nvar log;\\nvar requester;\\nvar initialContext;\\n\\n// Init IPC server\\ninit();\\n\\nreturn;\\n\\nfunction init() {\\n    // Setup logger\\n    log = DEBUG ?\\n        function log() {\\n            process.send({\\n                log: \"SERVER: \" + util.format.apply(this, arguments),\\n            });\\n        } :\\n        function noop() {};\\n\\n    // Create instance to send requests\\n    requester = new Requester();\\n\\n    // Capture the initial context\\n    // (id left undefined to indicate this is the initial context)\\n    initialContext = new Context(requester);\\n    initialContext.captureGlobalContext();\\n\\n    Object.defineProperty(global, \"$$defaultMimer$$\", {\\n        value: defaultMimer,\\n        configurable: false,\\n        writable: false,\\n        enumerable: false,\\n    });\\n\\n    process.on(\"message\", onMessage.bind(this));\\n\\n    process.on(\"uncaughtException\", onUncaughtException.bind(this));\\n\\n    process.send({\\n        status: \"online\",\\n    });\\n}\\n\\nfunction onUncaughtException(error) {\\n    log(\"UNCAUGHTEXCEPTION:\", error.stack);\\n    process.send({\\n        stderr: error.stack.toString(),\\n    });\\n}\\n\\nfunction onMessage(message) {\\n    log(\"RECEIVED:\", message);\\n\\n    var action = message[0];\\n    var code = message[1];\\n    var id = message[2];\\n\\n    initialContext.releaseGlobalContext();\\n    var context = new Context(requester, id);\\n    context.captureGlobalContext();\\n\\n    try {\\n        if (action === \"getAllPropertyNames\") {\\n            onNameRequest(code, context);\\n        } else if (action === \"inspect\") {\\n            onInspectRequest(code, context);\\n        } else if (action === \"run\") {\\n            onRunRequest(code, context);\\n        } else if (action === \"reply\") {\\n            onReply(message);\\n        } else {\\n            throw new Error(\"NEL: Unhandled action: \" + action);\\n        }\\n    } catch (error) {\\n        context.$$.sendError(error);\\n    }\\n\\n    context.releaseGlobalContext();\\n    initialContext.captureGlobalContext();\\n    initialContext._done = false;\\n}\\n\\nfunction onReply(message) {\\n    var reply = message[1];\\n    var id = message[3];\\n    requester.receive(id, reply);\\n}\\n\\nfunction onNameRequest(code, context) {\\n    var message = {\\n        id: context.id,\\n        names: getAllPropertyNames(run(code)),\\n        end: true,\\n    };\\n    context.send(message);\\n}\\n\\nfunction onInspectRequest(code, context) {\\n    var message = {\\n        id: context.id,\\n        inspection: inspect(run(code)),\\n        end: true,\\n    };\\n    context.send(message);\\n}\\n\\nfunction onRunRequest(code, context) {\\n    var result = run(code);\\n\\n    // If a result has already been sent, do not send this result.\\n    if (context._done) {\\n        return;\\n    }\\n\\n    // If the result is a Promise, send the result fulfilled by the promise\\n    if (isPromise(result)) {\\n        context.$$.sendResult(result);\\n        return;\\n    }\\n\\n    // If async mode has been enabled (and the result is not a Promise),\\n    // do not send this result.\\n    if (context._async) {\\n        return;\\n    }\\n\\n    // If no result has been sent yet and async mode has not been enabled,\\n    // send this result.\\n    context.$$.sendResult(result);\\n\\n    return;\\n\\n    function isPromise(output) {\\n        if (!global.Promise || typeof global.Promise !== \"function\") {\\n            return false;\\n        }\\n        return output instanceof global.Promise;\\n    }\\n}\\n\\nfunction getAllPropertyNames(object) {\\n    var propertyList = [];\\n\\n    if (object === undefined) {\\n        return [];\\n    }\\n\\n    if (object === null) {\\n        return [];\\n    }\\n\\n    var prototype;\\n    if (typeof object === \"boolean\") {\\n        prototype = Boolean.prototype;\\n    } else if (typeof object === \"number\") {\\n        prototype = Number.prototype;\\n    } else if (typeof object === \"string\") {\\n        prototype = String.prototype;\\n    } else {\\n        prototype = object;\\n    }\\n\\n    var prototypeList = [prototype];\\n\\n    function pushToPropertyList(e) {\\n        if (propertyList.indexOf(e) === -1) {\\n            propertyList.push(e);\\n        }\\n    }\\n\\n    while (true) {\\n        var names;\\n        try {\\n            names = Object.getOwnPropertyNames(prototype).sort();\\n        } catch (e) {\\n            break;\\n        }\\n        names.forEach(pushToPropertyList);\\n\\n        prototype = Object.getPrototypeOf(prototype);\\n        if (prototype === null) {\\n            break;\\n        }\\n\\n        if (prototypeList.indexOf(prototype) === -1) {\\n            prototypeList.push(prototype);\\n        }\\n    }\\n\\n    return propertyList;\\n}\\n\\nfunction inspect(object) {\\n    if (object === undefined) {\\n        return {\\n            string: \"undefined\",\\n            type: \"Undefined\",\\n        };\\n    }\\n\\n    if (object === null) {\\n        return {\\n            string: \"null\",\\n            type: \"Null\",\\n        };\\n    }\\n\\n    if (typeof object === \"boolean\") {\\n        return {\\n            string: object ? \"true\" : \"false\",\\n            type: \"Boolean\",\\n            constructorList: [\"Boolean\", \"Object\"],\\n        };\\n    }\\n\\n    if (typeof object === \"number\") {\\n        return {\\n            string: util.inspect(object),\\n            type: \"Number\",\\n            constructorList: [\"Number\", \"Object\"],\\n        };\\n    }\\n\\n    if (typeof object === \"string\") {\\n        return {\\n            string: object,\\n            type: \"String\",\\n            constructorList: [\"String\", \"Object\"],\\n            length: object.length,\\n        };\\n    }\\n\\n    if (typeof object === \"function\") {\\n        return {\\n            string: object.toString(),\\n            type: \"Function\",\\n            constructorList: [\"Function\", \"Object\"],\\n            length: object.length,\\n        };\\n    }\\n\\n    var constructorList = getConstructorList(object);\\n    var result = {\\n        string: toString(object),\\n        type: constructorList[0] || \"\",\\n        constructorList: constructorList,\\n    };\\n\\n    if (\"length\" in object) {\\n        result.length = object.length;\\n    }\\n\\n    return result;\\n\\n    function toString(object) {\\n        try {\\n            return util.inspect(object.valueOf());\\n        } catch (e) {\\n            return util.inspect(object);\\n        }\\n    }\\n\\n    function getConstructorList(object) {\\n        var constructorList = [];\\n\\n        var prototype = Object.getPrototypeOf(object);\\n        while (true) {\\n            try {\\n                constructorList.push(prototype.constructor.name);\\n            } catch (e) {\\n                break;\\n            }\\n            prototype = Object.getPrototypeOf(prototype);\\n        }\\n\\n        return constructorList;\\n    }\\n}\\n\\nfunction run(code) {\\n    return vm.runInThisContext(code);\\n}\\n\\n})();',\n",
      "     execPath: '/Users/hungrated/.nvm/versions/node/v8.9.3/bin/node',\n",
      "     debugPort: 9229,\n",
      "     _startProfilerIdleNotifier: [Function: _startProfilerIdleNotifier],\n",
      "     _stopProfilerIdleNotifier: [Function: _stopProfilerIdleNotifier],\n",
      "     _getActiveRequests: [Function: _getActiveRequests],\n",
      "     _getActiveHandles: [Function: _getActiveHandles],\n",
      "     reallyExit: [Function: reallyExit],\n",
      "     abort: [Function: abort],\n",
      "     chdir: [Function: chdir],\n",
      "     cwd: [Function: cwd],\n",
      "     umask: [Function: umask],\n",
      "     getuid: [Function: getuid],\n",
      "     geteuid: [Function: geteuid],\n",
      "     setuid: [Function: setuid],\n",
      "     seteuid: [Function: seteuid],\n",
      "     setgid: [Function: setgid],\n",
      "     setegid: [Function: setegid],\n",
      "     getgid: [Function: getgid],\n",
      "     getegid: [Function: getegid],\n",
      "     getgroups: [Function: getgroups],\n",
      "     setgroups: [Function: setgroups],\n",
      "     initgroups: [Function: initgroups],\n",
      "     _kill: [Function: _kill],\n",
      "     _debugProcess: [Function: _debugProcess],\n",
      "     _debugPause: [Function: _debugPause],\n",
      "     _debugEnd: [Function: _debugEnd],\n",
      "     hrtime: [Function: hrtime],\n",
      "     cpuUsage: [Function: cpuUsage],\n",
      "     dlopen: [Function: dlopen],\n",
      "     uptime: [Function: uptime],\n",
      "     memoryUsage: [Function: memoryUsage],\n",
      "     binding: [Function: binding],\n",
      "     _linkedBinding: [Function: _linkedBinding],\n",
      "     _setupDomainUse: [Function: _setupDomainUse],\n",
      "     _events: \n",
      "      { warning: [Function],\n",
      "        newListener: [Array],\n",
      "        removeListener: [Array],\n",
      "        internalMessage: [Function],\n",
      "        message: [Function: bound onMessage],\n",
      "        uncaughtException: [Function: bound onUncaughtException] },\n",
      "     _rawDebug: [Function],\n",
      "     _eventsCount: 6,\n",
      "     domain: null,\n",
      "     _maxListeners: undefined,\n",
      "     _fatalException: [Function],\n",
      "     _exiting: false,\n",
      "     assert: [Function],\n",
      "     config: { target_defaults: [Object], variables: [Object] },\n",
      "     emitWarning: [Function],\n",
      "     nextTick: [Function: nextTick],\n",
      "     _tickCallback: [Function: _tickCallback],\n",
      "     _tickDomainCallback: [Function: _tickDomainCallback],\n",
      "     stdin: [Getter],\n",
      "     openStdin: [Function],\n",
      "     exit: [Function],\n",
      "     kill: [Function],\n",
      "     channel: \n",
      "      Pipe {\n",
      "        writeQueueSize: 0,\n",
      "        buffering: false,\n",
      "        onread: [Function],\n",
      "        sockets: [Object] },\n",
      "     _channel: [Getter/Setter],\n",
      "     _handleQueue: null,\n",
      "     _pendingMessage: null,\n",
      "     send: [Function],\n",
      "     _send: [Function],\n",
      "     connected: true,\n",
      "     disconnect: [Function],\n",
      "     _disconnect: [Function],\n",
      "     argv0: '/Users/hungrated/.nvm/versions/node/v8.9.3/bin/node',\n",
      "     stdout: \n",
      "      Transform {\n",
      "        _readableState: [Object],\n",
      "        readable: true,\n",
      "        domain: null,\n",
      "        _events: [Object],\n",
      "        _eventsCount: 3,\n",
      "        _maxListeners: undefined,\n",
      "        _writableState: [Object],\n",
      "        writable: true,\n",
      "        allowHalfOpen: true,\n",
      "        _transformState: [Object],\n",
      "        _id: 2 },\n",
      "     stderr: \n",
      "      Transform {\n",
      "        _readableState: [Object],\n",
      "        readable: true,\n",
      "        domain: null,\n",
      "        _events: [Object],\n",
      "        _eventsCount: 3,\n",
      "        _maxListeners: undefined,\n",
      "        _writableState: [Object],\n",
      "        writable: true,\n",
      "        allowHalfOpen: true,\n",
      "        _transformState: [Object],\n",
      "        _id: 2 } },\n",
      "  Buffer: \n",
      "   { [Function: Buffer]\n",
      "     poolSize: 8192,\n",
      "     from: [Function],\n",
      "     alloc: [Function],\n",
      "     allocUnsafe: [Function],\n",
      "     allocUnsafeSlow: [Function],\n",
      "     isBuffer: [Function: isBuffer],\n",
      "     compare: [Function: compare],\n",
      "     isEncoding: [Function],\n",
      "     concat: [Function],\n",
      "     byteLength: [Function: byteLength],\n",
      "     [Symbol(node.isEncoding)]: [Function] },\n",
      "  clearImmediate: [Function],\n",
      "  clearInterval: [Function],\n",
      "  clearTimeout: [Function],\n",
      "  setImmediate: { [Function: setImmediate] [Symbol(util.promisify.custom)]: [Function] },\n",
      "  setInterval: [Function],\n",
      "  setTimeout: { [Function: setTimeout] [Symbol(util.promisify.custom)]: [Function] },\n",
      "  __filename: '[eval]',\n",
      "  exports: {},\n",
      "  module: \n",
      "   Module {\n",
      "     id: '[eval]',\n",
      "     exports: {},\n",
      "     parent: undefined,\n",
      "     filename: '/Users/hungrated/Documents/Codes/IDEA/javascript-practices/src/[eval]',\n",
      "     loaded: false,\n",
      "     children: [],\n",
      "     paths: \n",
      "      [ '/Users/hungrated/Documents/Codes/IDEA/javascript-practices/src/node_modules',\n",
      "        '/Users/hungrated/Documents/Codes/IDEA/javascript-practices/node_modules',\n",
      "        '/Users/hungrated/Documents/Codes/IDEA/node_modules',\n",
      "        '/Users/hungrated/Documents/Codes/node_modules',\n",
      "        '/Users/hungrated/Documents/node_modules',\n",
      "        '/Users/hungrated/node_modules',\n",
      "        '/Users/node_modules',\n",
      "        '/node_modules' ] },\n",
      "  __dirname: '.',\n",
      "  require: \n",
      "   { [Function: require]\n",
      "     resolve: { [Function: resolve] paths: [Function: paths] },\n",
      "     main: undefined,\n",
      "     extensions: { '.js': [Function], '.json': [Function], '.node': [Function] },\n",
      "     cache: {} },\n",
      "  '$$mimer$$': [Function: defaultMimer],\n",
      "  '$$done$$': [Function: bound bound done],\n",
      "  console: \n",
      "   Console {\n",
      "     log: [Function: bound log],\n",
      "     info: [Function: bound log],\n",
      "     warn: [Function: bound warn],\n",
      "     error: [Function: bound warn],\n",
      "     dir: [Function: bound dir],\n",
      "     time: [Function: bound time],\n",
      "     timeEnd: [Function: bound timeEnd],\n",
      "     trace: [Function: bound trace],\n",
      "     assert: [Function: bound assert],\n",
      "     clear: [Function: bound clear],\n",
      "     count: [Function: bound count],\n",
      "     countReset: [Function: bound countReset],\n",
      "     group: [Function: bound group],\n",
      "     groupCollapsed: [Function: bound group],\n",
      "     groupEnd: [Function: bound groupEnd],\n",
      "     Console: [Function: Console],\n",
      "     [Symbol(counts)]: Map {} },\n",
      "  '$$': \n",
      "   { async: [Function: bound async],\n",
      "     done: [Function: bound done],\n",
      "     sendResult: [Function: bound ],\n",
      "     sendError: [Function: bound ],\n",
      "     mime: [Function: bound ],\n",
      "     text: [Function: bound ],\n",
      "     html: [Function: bound ],\n",
      "     svg: [Function: bound ],\n",
      "     png: [Function: bound ],\n",
      "     jpeg: [Function: bound ],\n",
      "     json: [Function: bound ],\n",
      "     input: [Function: bound input],\n",
      "     display: [Function: bound createDisplay] } }\n"
     ]
    },
    {
     "data": {
      "text/plain": [
       "undefined"
      ]
     },
     "execution_count": 2,
     "metadata": {},
     "output_type": "execute_result"
    }
   ],
   "source": [
    "console.log(this)"
   ]
  },
  {
   "cell_type": "code",
   "execution_count": 3,
   "metadata": {},
   "outputs": [
    {
     "data": {
      "text/plain": [
       "{ DTRACE_NET_SERVER_CONNECTION: [Function],\n",
       "  DTRACE_NET_STREAM_END: [Function],\n",
       "  DTRACE_HTTP_SERVER_REQUEST: [Function],\n",
       "  DTRACE_HTTP_SERVER_RESPONSE: [Function],\n",
       "  DTRACE_HTTP_CLIENT_REQUEST: [Function],\n",
       "  DTRACE_HTTP_CLIENT_RESPONSE: [Function],\n",
       "  global: [Circular],\n",
       "  process: \n",
       "   process {\n",
       "     title: '�۾��',\n",
       "     version: 'v8.9.3',\n",
       "     moduleLoadList: \n",
       "      [ 'Binding contextify',\n",
       "        'Binding natives',\n",
       "        'Binding config',\n",
       "        'NativeModule events',\n",
       "        'Binding async_wrap',\n",
       "        'Binding icu',\n",
       "        'NativeModule util',\n",
       "        'NativeModule internal/errors',\n",
       "        'NativeModule internal/encoding',\n",
       "        'NativeModule internal/util',\n",
       "        'Binding util',\n",
       "        'Binding constants',\n",
       "        'NativeModule internal/util/types',\n",
       "        'Binding buffer',\n",
       "        'NativeModule buffer',\n",
       "        'NativeModule internal/buffer',\n",
       "        'Binding uv',\n",
       "        'NativeModule internal/process',\n",
       "        'NativeModule internal/process/warning',\n",
       "        'NativeModule internal/process/next_tick',\n",
       "        'NativeModule async_hooks',\n",
       "        'NativeModule internal/process/promises',\n",
       "        'NativeModule internal/process/stdio',\n",
       "        'Binding performance',\n",
       "        'NativeModule perf_hooks',\n",
       "        'NativeModule internal/linkedlist',\n",
       "        'NativeModule internal/inspector_async_hook',\n",
       "        'Binding inspector',\n",
       "        'NativeModule child_process',\n",
       "        'Binding spawn_sync',\n",
       "        'Binding pipe_wrap',\n",
       "        'NativeModule internal/child_process',\n",
       "        'NativeModule string_decoder',\n",
       "        'NativeModule net',\n",
       "        'NativeModule stream',\n",
       "        'NativeModule internal/streams/legacy',\n",
       "        'NativeModule _stream_readable',\n",
       "        'NativeModule internal/streams/BufferList',\n",
       "        'NativeModule internal/streams/destroy',\n",
       "        'NativeModule _stream_writable',\n",
       "        'NativeModule _stream_duplex',\n",
       "        'NativeModule _stream_transform',\n",
       "        'NativeModule _stream_passthrough',\n",
       "        'NativeModule timers',\n",
       "        'Binding timer_wrap',\n",
       "        'NativeModule assert',\n",
       "        'NativeModule internal/net',\n",
       "        'Binding cares_wrap',\n",
       "        'Binding tty_wrap',\n",
       "        'Binding tcp_wrap',\n",
       "        'Binding stream_wrap',\n",
       "        'NativeModule dns',\n",
       "        'NativeModule dgram',\n",
       "        'Binding udp_wrap',\n",
       "        'Binding process_wrap',\n",
       "        'NativeModule internal/socket_list',\n",
       "        'NativeModule module',\n",
       "        'NativeModule internal/module',\n",
       "        'NativeModule internal/url',\n",
       "        'NativeModule internal/querystring',\n",
       "        'NativeModule querystring',\n",
       "        'Binding url',\n",
       "        'NativeModule vm',\n",
       "        'NativeModule fs',\n",
       "        'NativeModule path',\n",
       "        'Binding fs',\n",
       "        'Binding fs_event_wrap',\n",
       "        'NativeModule internal/fs',\n",
       "        'NativeModule internal/loader/Loader',\n",
       "        'NativeModule internal/loader/ModuleWrap',\n",
       "        'Internal Binding module_wrap',\n",
       "        'NativeModule internal/loader/ModuleMap',\n",
       "        'NativeModule internal/loader/ModuleJob',\n",
       "        'NativeModule internal/safe_globals',\n",
       "        'NativeModule internal/loader/ModuleRequest',\n",
       "        'NativeModule url',\n",
       "        'NativeModule internal/loader/search',\n",
       "        'NativeModule console' ],\n",
       "     versions: { http_parser: '2.7.0',\n",
       "  node: '8.9.3',\n",
       "  v8: '6.1.534.48',\n",
       "  uv: '1.15.0',\n",
       "  zlib: '1.2.11',\n",
       "  ares: '1.10.1-DEV',\n",
       "  modules: '57',\n",
       "  nghttp2: '1.25.0',\n",
       "  openssl: '1.0.2n',\n",
       "  icu: '59.1',\n",
       "  unicode: '9.0',\n",
       "  cldr: '31.0.1',\n",
       "  tz: '2017b' },\n",
       "     arch: 'x64',\n",
       "     platform: 'darwin',\n",
       "     release: \n",
       "      { name: 'node',\n",
       "        lts: 'Carbon',\n",
       "        sourceUrl: 'https://nodejs.org/download/release/v8.9.3/node-v8.9.3.tar.gz',\n",
       "        headersUrl: 'https://nodejs.org/download/release/v8.9.3/node-v8.9.3-headers.tar.gz' },\n",
       "     argv: [ '/Users/hungrated/.nvm/versions/node/v8.9.3/bin/node' ],\n",
       "     execArgv: \n",
       "      [ '--eval',\n",
       "        '(function() {\\n/*\\n * BSD 3-Clause License\\n *\\n * Copyright (c) 2015, Nicolas Riesco and others as credited in the AUTHORS file\\n * All rights reserved.\\n *\\n * Redistribution and use in source and binary forms, with or without\\n * modification, are permitted provided that the following conditions are met:\\n *\\n * 1. Redistributions of source code must retain the above copyright notice,\\n * this list of conditions and the following disclaimer.\\n *\\n * 2. Redistributions in binary form must reproduce the above copyright notice,\\n * this list of conditions and the following disclaimer in the documentation\\n * and/or other materials provided with the distribution.\\n *\\n * 3. Neither the name of the copyright holder nor the names of its contributors\\n * may be used to endorse or promote products derived from this software without\\n * specific prior written permission.\\n *\\n * THIS SOFTWARE IS PROVIDED BY THE COPYRIGHT HOLDERS AND CONTRIBUTORS \"AS IS\"\\n * AND ANY EXPRESS OR IMPLIED WARRANTIES, INCLUDING, BUT NOT LIMITED TO, THE\\n * IMPLIED WARRANTIES OF MERCHANTABILITY AND FITNESS FOR A PARTICULAR PURPOSE\\n * ARE DISCLAIMED. IN NO EVENT SHALL THE COPYRIGHT HOLDER OR CONTRIBUTORS BE\\n * LIABLE FOR ANY DIRECT, INDIRECT, INCIDENTAL, SPECIAL, EXEMPLARY, OR\\n * CONSEQUENTIAL DAMAGES (INCLUDING, BUT NOT LIMITED TO, PROCUREMENT OF\\n * SUBSTITUTE GOODS OR SERVICES; LOSS OF USE, DATA, OR PROFITS; OR BUSINESS\\n * INTERRUPTION) HOWEVER CAUSED AND ON ANY THEORY OF LIABILITY, WHETHER IN\\n * CONTRACT, STRICT LIABILITY, OR TORT (INCLUDING NEGLIGENCE OR OTHERWISE)\\n * ARISING IN ANY WAY OUT OF THE USE OF THIS SOFTWARE, EVEN IF ADVISED OF THE\\n * POSSIBILITY OF SUCH DAMAGE.\\n *\\n */\\n\\nvar console = require(\"console\");\\nvar stream = require(\"stream\");\\nvar util = require(\"util\");\\n\\nfunction Stdout(id, opt) {\\n    stream.Transform.call(this, opt);\\n\\n    this._id = id;\\n}\\n\\nStdout.prototype = Object.create(stream.Transform.prototype);\\n\\nStdout.prototype._transform = function(data, encoding, callback) {\\n    var response = {\\n        id: this._id,\\n        stdout: data.toString(),\\n    };\\n    log(\"STDOUT:\", response);\\n    process.send(response);\\n    this.push(data);\\n    callback();\\n};\\n\\nfunction Stderr(id, opt) {\\n    stream.Transform.call(this, opt);\\n\\n    this._id = id;\\n}\\n\\nStderr.prototype = Object.create(stream.Transform.prototype);\\n\\nStderr.prototype._transform = function(data, encoding, callback) {\\n    var response = {\\n        id: this._id,\\n        stderr: data.toString(),\\n    };\\n    log(\"STDERR:\", response);\\n    process.send(response);\\n    this.push(data);\\n    callback();\\n};\\n\\nfunction Context(requester, id) {\\n    this.requester = requester;\\n    this.id = id;\\n\\n    this.stdout = new Stdout(this.id);\\n    this.stderr = new Stderr(this.id);\\n    this.console = new console.Console(this.stdout, this.stderr);\\n\\n    this._capturedStdout = null;\\n    this._capturedStderr = null;\\n    this._capturedConsole = null;\\n\\n    this._async = false;\\n    this._done = false;\\n\\n    // `$$` provides an interface for users to access the execution context\\n    this.$$ = Object.create(null);\\n\\n    this.$$.async = (function async(value) {\\n        this._async = (arguments.length === 0) ? true : !!value;\\n        return this._async;\\n    }).bind(this);\\n\\n    this.$$.done = (function done(result) {\\n        this.send((arguments.length === 0) ? {\\n            end: true,\\n        } : {\\n            mime: toMime(result),\\n            end: true,\\n        });\\n    }).bind(this);\\n\\n    this.$$.sendResult = resolvePromise.call(this,\\n        function sendResult(result, keepAlive) {\\n            if (keepAlive) this.$$.async();\\n\\n            this.send({\\n                mime: toMime(result),\\n                end: !keepAlive,\\n            });\\n        }\\n    );\\n\\n    this.$$.sendError = resolvePromise.call(this,\\n        function sendError(error, keepAlive) {\\n            if (keepAlive) this.$$.async();\\n\\n            this.send({\\n                error: formatError(error),\\n                end: !keepAlive,\\n            });\\n        }\\n    );\\n\\n    this.$$.mime = resolvePromise.call(this,\\n        function sendMime(mimeBundle, keepAlive) {\\n            if (keepAlive) this.$$.async();\\n\\n            this.send({\\n                mime: mimeBundle,\\n                end: !keepAlive,\\n            });\\n        }\\n    );\\n\\n    this.$$.text = resolvePromise.call(this,\\n        function sendText(text, keepAlive) {\\n            if (keepAlive) this.$$.async();\\n\\n            this.send({\\n                mime: {\\n                    \"text/plain\": text,\\n                },\\n                end: !keepAlive,\\n            });\\n        }\\n    );\\n\\n    this.$$.html = resolvePromise.call(this,\\n        function sendHtml(html, keepAlive) {\\n            if (keepAlive) this.$$.async();\\n\\n            this.send({\\n                mime: {\\n                    \"text/html\": html,\\n                },\\n                end: !keepAlive,\\n            });\\n        }\\n    );\\n\\n    this.$$.svg = resolvePromise.call(this,\\n        function sendSvg(svg, keepAlive) {\\n            if (keepAlive) this.$$.async();\\n\\n            this.send({\\n                mime: {\\n                    \"image/svg+xml\": svg,\\n                },\\n                end: !keepAlive,\\n            });\\n        }\\n    );\\n\\n    this.$$.png = resolvePromise.call(this,\\n        function sendPng(png, keepAlive) {\\n            if (keepAlive) this.$$.async();\\n\\n            this.send({\\n                mime: {\\n                    \"image/png\": png,\\n                },\\n                end: !keepAlive,\\n            });\\n        }\\n    );\\n\\n    this.$$.jpeg = resolvePromise.call(this,\\n        function sendJpeg(jpeg, keepAlive) {\\n            if (keepAlive) this.$$.async();\\n\\n            this.send({\\n                mime: {\\n                    \"image/jpeg\": jpeg,\\n                },\\n                end: !keepAlive,\\n            });\\n        }\\n    );\\n\\n    this.$$.json = resolvePromise.call(this,\\n        function sendJson(json, keepAlive) {\\n            if (keepAlive) this.$$.async();\\n\\n            this.send({\\n                mime: {\\n                    \"application/json\": json,\\n                },\\n                end: !keepAlive,\\n            });\\n        }\\n    );\\n\\n    this.$$.input = (function input(options, callback) {\\n        this.$$.async();\\n\\n        var inputRequest = {\\n            input: options,\\n        };\\n\\n        var inputCallback;\\n        if (typeof callback === \\'function\\') {\\n            inputCallback = function inputCallback(error, reply) {\\n                callback(error, reply.input);\\n            };\\n        }\\n\\n        var promise = this.requester.send(this, inputRequest, inputCallback);\\n        if (promise) {\\n            return promise.then(function(reply) { return reply.input; });\\n        }\\n    }).bind(this);\\n\\n    this.$$.display = (function createDisplay(id) {\\n        return (arguments.length === 0) ?\\n            new Display(this.id) :\\n            new Display(this.id, id);\\n    }).bind(this);\\n\\n    function isPromise(output) {\\n        if (!global.Promise || typeof global.Promise !== \"function\") {\\n            return false;\\n        }\\n        return output instanceof global.Promise;\\n    }\\n\\n    function resolvePromise(outputHandler) {\\n        return function(output, keepAlive) {\\n            if (isPromise(output)) {\\n                this.$$.async();\\n\\n                output.then(function(resolvedOutput) {\\n                    outputHandler.call(this, resolvedOutput, keepAlive);\\n                }.bind(this)).catch(function(error) {\\n                    this.send({\\n                        error: formatError(error),\\n                        end: true,\\n                    });\\n                }.bind(this));\\n\\n                return;\\n            }\\n\\n            outputHandler.apply(this, arguments);\\n        }.bind(this);\\n    }\\n}\\n\\nContext.prototype.send = function send(message) {\\n    message.id = this.id;\\n\\n    if (this._done) {\\n        log(\"SEND: DROPPED:\", message);\\n        return;\\n    }\\n\\n    if(message.end) {\\n        this._done = true;\\n        this._async = false;\\n    }\\n\\n    log(\"SEND:\", message);\\n\\n    process.send(message);\\n};\\n\\nContext.prototype.captureGlobalContext = function captureGlobalContext() {\\n    this._capturedStdout = process.stdout;\\n    this._capturedStderr = process.stderr;\\n    this._capturedConsole = console;\\n\\n    this.stdout.pipe(this._capturedStdout);\\n    this.stderr.pipe(this._capturedStderr);\\n    this.console.Console = this._capturedConsole.Console;\\n\\n    delete process.stdout;\\n    process.stdout = this.stdout;\\n\\n    delete process.stderr;\\n    process.stderr = this.stderr;\\n\\n    delete global.console;\\n    global.console = this.console;\\n\\n    delete global.$$;\\n    global.$$ = this.$$;\\n\\n    if (typeof global.$$mimer$$ !== \"function\") {\\n        global.$$mimer$$ = defaultMimer;\\n    }\\n\\n    delete global.$$mime$$;\\n    Object.defineProperty(global, \"$$mime$$\", {\\n        set: this.$$.mime,\\n        configurable: true,\\n        enumerable: false,\\n    });\\n\\n    delete global.$$html$$;\\n    Object.defineProperty(global, \"$$html$$\", {\\n        set: this.$$.html,\\n        configurable: true,\\n        enumerable: false,\\n    });\\n\\n    delete global.$$svg$$;\\n    Object.defineProperty(global, \"$$svg$$\", {\\n        set: this.$$.svg,\\n        configurable: true,\\n        enumerable: false,\\n    });\\n\\n    delete global.$$png$$;\\n    Object.defineProperty(global, \"$$png$$\", {\\n        set: this.$$.png,\\n        configurable: true,\\n        enumerable: false,\\n    });\\n\\n    delete global.$$jpeg$$;\\n    Object.defineProperty(global, \"$$jpeg$$\", {\\n        set: this.$$.jpeg,\\n        configurable: true,\\n        enumerable: false,\\n    });\\n\\n    delete global.$$async$$;\\n    Object.defineProperty(global, \"$$async$$\", {\\n        get: (function() {\\n            return this._async;\\n        }).bind(this),\\n        set: (function(value) {\\n            this._async = !!value;\\n        }).bind(this),\\n        configurable: true,\\n        enumerable: false,\\n    });\\n\\n    global.$$done$$ = this.$$.done.bind(this);\\n\\n    if (!global.hasOwnProperty(\"$$defaultMimer$$\")) {\\n        Object.defineProperty(global, \"$$defaultMimer$$\", {\\n            value: defaultMimer,\\n            configurable: false,\\n            writable: false,\\n            enumerable: false,\\n        });\\n    }\\n};\\n\\nContext.prototype.releaseGlobalContext = function releaseGlobalContext() {\\n    if (process.stdout === this.stdout) {\\n        this.stdout.unpipe();\\n\\n        delete process.stdout;\\n        process.stdout = this._capturedStdout;\\n\\n        this._capturedStdout = null;\\n    }\\n\\n    if (process.stderr === this.stderr) {\\n        this.stderr.unpipe();\\n\\n        delete process.stderr;\\n        process.stderr = this._capturedStderr;\\n\\n        this._capturedStderr = null;\\n    }\\n\\n    if (global.console === this.console) {\\n        delete global.console;\\n        global.console = this._capturedConsole;\\n\\n        this._capturedConsole = null;\\n    }\\n};\\n\\nfunction formatError(error) {\\n    return {\\n        ename: (error && error.name) ?\\n            error.name : typeof error,\\n        evalue: (error && error.message) ?\\n            error.message : util.inspect(error),\\n        traceback: (error && error.stack) ?\\n            error.stack.split(\"\\\\n\") : \"\",\\n    };\\n}\\n\\nfunction toMime(result) {\\n    var mimer = (typeof global.$$mimer$$ === \"function\") ?\\n        global.$$mimer$$ :\\n        defaultMimer;\\n    return mimer(result);\\n}\\n\\nfunction defaultMimer(result) {\\n    if (typeof result === \"undefined\") {\\n        return {\\n            \"text/plain\": \"undefined\"\\n        };\\n    }\\n\\n    if (result === null) {\\n        return {\\n            \"text/plain\": \"null\"\\n        };\\n    }\\n\\n    var mime;\\n    if (result._toMime) {\\n        try {\\n            mime = result._toMime();\\n        } catch (error) {}\\n    }\\n    if (typeof mime !== \"object\") {\\n        mime = {};\\n    }\\n\\n    if (!(\"text/plain\" in mime)) {\\n        try {\\n            mime[\"text/plain\"] = util.inspect(result);\\n        } catch (error) {}\\n    }\\n\\n    if (result._toHtml && !(\"text/html\" in mime)) {\\n        try {\\n            mime[\"text/html\"] = result._toHtml();\\n        } catch (error) {}\\n    }\\n\\n    if (result._toSvg && !(\"image/svg+xml\" in mime)) {\\n        try {\\n            mime[\"image/svg+xml\"] = result._toSvg();\\n        } catch (error) {}\\n    }\\n\\n    if (result._toPng && !(\"image/png\" in mime)) {\\n        try {\\n            mime[\"image/png\"] = result._toPng();\\n        } catch (error) {}\\n    }\\n\\n    if (result._toJpeg && !(\"image/jpeg\" in mime)) {\\n        try {\\n            mime[\"image/jpeg\"] = result._toJpeg();\\n        } catch (error) {}\\n    }\\n\\n    return mime;\\n}\\n\\n/*\\n * BSD 3-Clause License\\n *\\n * Copyright (c) 2017, Nicolas Riesco and others as credited in the AUTHORS file\\n * All rights reserved.\\n *\\n * Redistribution and use in source and binary forms, with or without\\n * modification, are permitted provided that the following conditions are met:\\n *\\n * 1. Redistributions of source code must retain the above copyright notice,\\n * this list of conditions and the following disclaimer.\\n *\\n * 2. Redistributions in binary form must reproduce the above copyright notice,\\n * this list of conditions and the following disclaimer in the documentation\\n * and/or other materials provided with the distribution.\\n *\\n * 3. Neither the name of the copyright holder nor the names of its contributors\\n * may be used to endorse or promote products derived from this software without\\n * specific prior written permission.\\n *\\n * THIS SOFTWARE IS PROVIDED BY THE COPYRIGHT HOLDERS AND CONTRIBUTORS \"AS IS\"\\n * AND ANY EXPRESS OR IMPLIED WARRANTIES, INCLUDING, BUT NOT LIMITED TO, THE\\n * IMPLIED WARRANTIES OF MERCHANTABILITY AND FITNESS FOR A PARTICULAR PURPOSE\\n * ARE DISCLAIMED. IN NO EVENT SHALL THE COPYRIGHT HOLDER OR CONTRIBUTORS BE\\n * LIABLE FOR ANY DIRECT, INDIRECT, INCIDENTAL, SPECIAL, EXEMPLARY, OR\\n * CONSEQUENTIAL DAMAGES (INCLUDING, BUT NOT LIMITED TO, PROCUREMENT OF\\n * SUBSTITUTE GOODS OR SERVICES; LOSS OF USE, DATA, OR PROFITS; OR BUSINESS\\n * INTERRUPTION) HOWEVER CAUSED AND ON ANY THEORY OF LIABILITY, WHETHER IN\\n * CONTRACT, STRICT LIABILITY, OR TORT (INCLUDING NEGLIGENCE OR OTHERWISE)\\n * ARISING IN ANY WAY OUT OF THE USE OF THIS SOFTWARE, EVEN IF ADVISED OF THE\\n * POSSIBILITY OF SUCH DAMAGE.\\n *\\n */\\n\\nfunction Display(context_id, display_id) {\\n    var send;\\n\\n    this.mime = function mime(mimeBundle) {\\n        send(mimeBundle);\\n    };\\n\\n    this.text = function text(text) {\\n        send({\"text/plain\": text});\\n    };\\n\\n    this.html = function html(html) {\\n        send({\"text/html\": html});\\n    };\\n\\n    this.svg = function svg(svg) {\\n        send({\"image/svg+xml\": svg});\\n    };\\n\\n    this.png = function png(png) {\\n        send({\"image/png\": png});\\n    };\\n\\n    this.jpeg = function jpeg(jpeg) {\\n        send({\"image/jpeg\": jpeg});\\n    };\\n\\n    this.json = function json(json) {\\n        send({\"application/json\": json});\\n    };\\n\\n    this.close = function close() {\\n        process.send({\\n            id: context_id,\\n            display: {\\n                close: display_id,\\n            },\\n        });\\n    };\\n\\n    if (arguments.length < 2) {\\n        // case: without a display_id\\n        send = function send(mime) {\\n            process.send({\\n                id: context_id,\\n                display: {\\n                    mime: mime,\\n                },\\n            });\\n        };\\n    } else {\\n        // case: with a display_id\\n        send = function send(mime) {\\n            process.send({\\n                id: context_id,\\n                display: {\\n                    display_id: display_id,\\n                    mime: mime,\\n                },\\n            });\\n        };\\n\\n        // open the display_id\\n        process.send({\\n            id: context_id,\\n            display: {\\n                open: display_id,\\n            },\\n        });\\n    }\\n}\\n\\n/*\\n * BSD 3-Clause License\\n *\\n * Copyright (c) 2017, Nicolas Riesco and others as credited in the AUTHORS file\\n * All rights reserved.\\n *\\n * Redistribution and use in source and binary forms, with or without\\n * modification, are permitted provided that the following conditions are met:\\n *\\n * 1. Redistributions of source code must retain the above copyright notice,\\n * this list of conditions and the following disclaimer.\\n *\\n * 2. Redistributions in binary form must reproduce the above copyright notice,\\n * this list of conditions and the following disclaimer in the documentation\\n * and/or other materials provided with the distribution.\\n *\\n * 3. Neither the name of the copyright holder nor the names of its contributors\\n * may be used to endorse or promote products derived from this software without\\n * specific prior written permission.\\n *\\n * THIS SOFTWARE IS PROVIDED BY THE COPYRIGHT HOLDERS AND CONTRIBUTORS \"AS IS\"\\n * AND ANY EXPRESS OR IMPLIED WARRANTIES, INCLUDING, BUT NOT LIMITED TO, THE\\n * IMPLIED WARRANTIES OF MERCHANTABILITY AND FITNESS FOR A PARTICULAR PURPOSE\\n * ARE DISCLAIMED. IN NO EVENT SHALL THE COPYRIGHT HOLDER OR CONTRIBUTORS BE\\n * LIABLE FOR ANY DIRECT, INDIRECT, INCIDENTAL, SPECIAL, EXEMPLARY, OR\\n * CONSEQUENTIAL DAMAGES (INCLUDING, BUT NOT LIMITED TO, PROCUREMENT OF\\n * SUBSTITUTE GOODS OR SERVICES; LOSS OF USE, DATA, OR PROFITS; OR BUSINESS\\n * INTERRUPTION) HOWEVER CAUSED AND ON ANY THEORY OF LIABILITY, WHETHER IN\\n * CONTRACT, STRICT LIABILITY, OR TORT (INCLUDING NEGLIGENCE OR OTHERWISE)\\n * ARISING IN ANY WAY OUT OF THE USE OF THIS SOFTWARE, EVEN IF ADVISED OF THE\\n * POSSIBILITY OF SUCH DAMAGE.\\n *\\n */\\n\\nfunction Requester() {\\n    // id for next request\\n    this.id = 0;\\n\\n    // callback associated with a request (indexed by id)\\n    this.callbacks = {};\\n\\n    // the Promise resolve callback associated with a request (indexed by id)\\n    this.resolves = {};\\n\\n    // the Promise reject callback associated with a request (indexed by id)\\n    this.rejects = {};\\n\\n    // the string to be returned to a request (indexed by id)\\n    this.responses = {};\\n}\\n\\n// send a request\\nRequester.prototype.send = function send(context, request, callback) {\\n    var id = this.id++;\\n\\n    if (callback) {\\n        this.callbacks[id] = callback;\\n    }\\n\\n    var promise;\\n    if (global.Promise) {\\n        promise = new Promise(function(resolve, reject) {\\n            if (!this.responses.hasOwnProperty(id)) {\\n                this.resolves[id] = resolve;\\n                this.rejects[id] = reject;\\n                return;\\n            }\\n\\n            var response = this.responses[id];\\n            delete this.responses[id];\\n            resolve(response);\\n        }.bind(this));\\n    }\\n\\n    request.id = id;\\n\\n    context.send({\\n        request: request,\\n    });\\n\\n    return promise;\\n};\\n\\n// pass reply to the callbacks associated with a request\\nRequester.prototype.receive = function receive(id, reply) {\\n    var callback = this.callbacks[id];\\n    if (callback) {\\n        delete this.callbacks[id];\\n        callback(null, reply);\\n    }\\n    \\n    var resolve = this.resolves[id];\\n    if (resolve) {\\n        delete this.resolves[id];\\n        delete this.rejects[id];\\n        resolve(reply);\\n    }\\n};\\n\\n/*\\n * BSD 3-Clause License\\n *\\n * Copyright (c) 2015, Nicolas Riesco and others as credited in the AUTHORS file\\n * All rights reserved.\\n *\\n * Redistribution and use in source and binary forms, with or without\\n * modification, are permitted provided that the following conditions are met:\\n *\\n * 1. Redistributions of source code must retain the above copyright notice,\\n * this list of conditions and the following disclaimer.\\n *\\n * 2. Redistributions in binary form must reproduce the above copyright notice,\\n * this list of conditions and the following disclaimer in the documentation\\n * and/or other materials provided with the distribution.\\n *\\n * 3. Neither the name of the copyright holder nor the names of its contributors\\n * may be used to endorse or promote products derived from this software without\\n * specific prior written permission.\\n *\\n * THIS SOFTWARE IS PROVIDED BY THE COPYRIGHT HOLDERS AND CONTRIBUTORS \"AS IS\"\\n * AND ANY EXPRESS OR IMPLIED WARRANTIES, INCLUDING, BUT NOT LIMITED TO, THE\\n * IMPLIED WARRANTIES OF MERCHANTABILITY AND FITNESS FOR A PARTICULAR PURPOSE\\n * ARE DISCLAIMED. IN NO EVENT SHALL THE COPYRIGHT HOLDER OR CONTRIBUTORS BE\\n * LIABLE FOR ANY DIRECT, INDIRECT, INCIDENTAL, SPECIAL, EXEMPLARY, OR\\n * CONSEQUENTIAL DAMAGES (INCLUDING, BUT NOT LIMITED TO, PROCUREMENT OF\\n * SUBSTITUTE GOODS OR SERVICES; LOSS OF USE, DATA, OR PROFITS; OR BUSINESS\\n * INTERRUPTION) HOWEVER CAUSED AND ON ANY THEORY OF LIABILITY, WHETHER IN\\n * CONTRACT, STRICT LIABILITY, OR TORT (INCLUDING NEGLIGENCE OR OTHERWISE)\\n * ARISING IN ANY WAY OUT OF THE USE OF THIS SOFTWARE, EVEN IF ADVISED OF THE\\n * POSSIBILITY OF SUCH DAMAGE.\\n *\\n */\\n\\nvar vm = require(\"vm\");\\n\\n// Shared variables\\nvar DEBUG = !!process.env.DEBUG;\\nvar log;\\nvar requester;\\nvar initialContext;\\n\\n// Init IPC server\\ninit();\\n\\nreturn;\\n\\nfunction init() {\\n    // Setup logger\\n    log = DEBUG ?\\n        function log() {\\n            process.send({\\n                log: \"SERVER: \" + util.format.apply(this, arguments),\\n            });\\n        } :\\n        function noop() {};\\n\\n    // Create instance to send requests\\n    requester = new Requester();\\n\\n    // Capture the initial context\\n    // (id left undefined to indicate this is the initial context)\\n    initialContext = new Context(requester);\\n    initialContext.captureGlobalContext();\\n\\n    Object.defineProperty(global, \"$$defaultMimer$$\", {\\n        value: defaultMimer,\\n        configurable: false,\\n        writable: false,\\n        enumerable: false,\\n    });\\n\\n    process.on(\"message\", onMessage.bind(this));\\n\\n    process.on(\"uncaughtException\", onUncaughtException.bind(this));\\n\\n    process.send({\\n        status: \"online\",\\n    });\\n}\\n\\nfunction onUncaughtException(error) {\\n    log(\"UNCAUGHTEXCEPTION:\", error.stack);\\n    process.send({\\n        stderr: error.stack.toString(),\\n    });\\n}\\n\\nfunction onMessage(message) {\\n    log(\"RECEIVED:\", message);\\n\\n    var action = message[0];\\n    var code = message[1];\\n    var id = message[2];\\n\\n    initialContext.releaseGlobalContext();\\n    var context = new Context(requester, id);\\n    context.captureGlobalContext();\\n\\n    try {\\n        if (action === \"getAllPropertyNames\") {\\n            onNameRequest(code, context);\\n        } else if (action === \"inspect\") {\\n            onInspectRequest(code, context);\\n        } else if (action === \"run\") {\\n            onRunRequest(code, context);\\n        } else if (action === \"reply\") {\\n            onReply(message);\\n        } else {\\n            throw new Error(\"NEL: Unhandled action: \" + action);\\n        }\\n    } catch (error) {\\n        context.$$.sendError(error);\\n    }\\n\\n    context.releaseGlobalContext();\\n    initialContext.captureGlobalContext();\\n    initialContext._done = false;\\n}\\n\\nfunction onReply(message) {\\n    var reply = message[1];\\n    var id = message[3];\\n    requester.receive(id, reply);\\n}\\n\\nfunction onNameRequest(code, context) {\\n    var message = {\\n        id: context.id,\\n        names: getAllPropertyNames(run(code)),\\n        end: true,\\n    };\\n    context.send(message);\\n}\\n\\nfunction onInspectRequest(code, context) {\\n    var message = {\\n        id: context.id,\\n        inspection: inspect(run(code)),\\n        end: true,\\n    };\\n    context.send(message);\\n}\\n\\nfunction onRunRequest(code, context) {\\n    var result = run(code);\\n\\n    // If a result has already been sent, do not send this result.\\n    if (context._done) {\\n        return;\\n    }\\n\\n    // If the result is a Promise, send the result fulfilled by the promise\\n    if (isPromise(result)) {\\n        context.$$.sendResult(result);\\n        return;\\n    }\\n\\n    // If async mode has been enabled (and the result is not a Promise),\\n    // do not send this result.\\n    if (context._async) {\\n        return;\\n    }\\n\\n    // If no result has been sent yet and async mode has not been enabled,\\n    // send this result.\\n    context.$$.sendResult(result);\\n\\n    return;\\n\\n    function isPromise(output) {\\n        if (!global.Promise || typeof global.Promise !== \"function\") {\\n            return false;\\n        }\\n        return output instanceof global.Promise;\\n    }\\n}\\n\\nfunction getAllPropertyNames(object) {\\n    var propertyList = [];\\n\\n    if (object === undefined) {\\n        return [];\\n    }\\n\\n    if (object === null) {\\n        return [];\\n    }\\n\\n    var prototype;\\n    if (typeof object === \"boolean\") {\\n        prototype = Boolean.prototype;\\n    } else if (typeof object === \"number\") {\\n        prototype = Number.prototype;\\n    } else if (typeof object === \"string\") {\\n        prototype = String.prototype;\\n    } else {\\n        prototype = object;\\n    }\\n\\n    var prototypeList = [prototype];\\n\\n    function pushToPropertyList(e) {\\n        if (propertyList.indexOf(e) === -1) {\\n            propertyList.push(e);\\n        }\\n    }\\n\\n    while (true) {\\n        var names;\\n        try {\\n            names = Object.getOwnPropertyNames(prototype).sort();\\n        } catch (e) {\\n            break;\\n        }\\n        names.forEach(pushToPropertyList);\\n\\n        prototype = Object.getPrototypeOf(prototype);\\n        if (prototype === null) {\\n            break;\\n        }\\n\\n        if (prototypeList.indexOf(prototype) === -1) {\\n            prototypeList.push(prototype);\\n        }\\n    }\\n\\n    return propertyList;\\n}\\n\\nfunction inspect(object) {\\n    if (object === undefined) {\\n        return {\\n            string: \"undefined\",\\n            type: \"Undefined\",\\n        };\\n    }\\n\\n    if (object === null) {\\n        return {\\n            string: \"null\",\\n            type: \"Null\",\\n        };\\n    }\\n\\n    if (typeof object === \"boolean\") {\\n        return {\\n            string: object ? \"true\" : \"false\",\\n            type: \"Boolean\",\\n            constructorList: [\"Boolean\", \"Object\"],\\n        };\\n    }\\n\\n    if (typeof object === \"number\") {\\n        return {\\n            string: util.inspect(object),\\n            type: \"Number\",\\n            constructorList: [\"Number\", \"Object\"],\\n        };\\n    }\\n\\n    if (typeof object === \"string\") {\\n        return {\\n            string: object,\\n            type: \"String\",\\n            constructorList: [\"String\", \"Object\"],\\n            length: object.length,\\n        };\\n    }\\n\\n    if (typeof object === \"function\") {\\n        return {\\n            string: object.toString(),\\n            type: \"Function\",\\n            constructorList: [\"Function\", \"Object\"],\\n            length: object.length,\\n        };\\n    }\\n\\n    var constructorList = getConstructorList(object);\\n    var result = {\\n        string: toString(object),\\n        type: constructorList[0] || \"\",\\n        constructorList: constructorList,\\n    };\\n\\n    if (\"length\" in object) {\\n        result.length = object.length;\\n    }\\n\\n    return result;\\n\\n    function toString(object) {\\n        try {\\n            return util.inspect(object.valueOf());\\n        } catch (e) {\\n            return util.inspect(object);\\n        }\\n    }\\n\\n    function getConstructorList(object) {\\n        var constructorList = [];\\n\\n        var prototype = Object.getPrototypeOf(object);\\n        while (true) {\\n            try {\\n                constructorList.push(prototype.constructor.name);\\n            } catch (e) {\\n                break;\\n            }\\n            prototype = Object.getPrototypeOf(prototype);\\n        }\\n\\n        return constructorList;\\n    }\\n}\\n\\nfunction run(code) {\\n    return vm.runInThisContext(code);\\n}\\n\\n})();' ],\n",
       "     env: \n",
       "      { TERM_SESSION_ID: 'w0t0p0:CA18AD13-F991-4B26-ACC1-B1B95DCB8A44',\n",
       "        SSH_AUTH_SOCK: '/private/tmp/com.apple.launchd.EjTOtl7FVK/Listeners',\n",
       "        Apple_PubSub_Socket_Render: '/private/tmp/com.apple.launchd.iyzIus0jvI/Render',\n",
       "        COLORFGBG: '12;8',\n",
       "        ITERM_PROFILE: 'Default',\n",
       "        XPC_FLAGS: '0x0',\n",
       "        PWD: '/Users/hungrated',\n",
       "        SHELL: '/bin/zsh',\n",
       "        SECURITYSESSIONID: '186a9',\n",
       "        TERM_PROGRAM_VERSION: '3.1.4',\n",
       "        TERM_PROGRAM: 'iTerm.app',\n",
       "        PATH: '/anaconda3/bin:/anaconda3/bin:/Users/hungrated/.hive/bin:/Users/hungrated/.hive/conf:/Users/hungrated/.hadoop/bin/:/anaconda3/bin:/Library/Frameworks/Python.framework/Versions/3.6/bin:/usr/local/sbin:.:/Users/hungrated/.nvm/versions/node/v8.9.3/bin:/usr/local/bin:/usr/bin:/bin:/usr/sbin:/sbin:/usr/local/mysql-8.0.12-macos10.13-x86_64/bin:/Library/Java/JavaVirtualMachines/jdk1.8.0_161.jdk/Contents/Home/bin:/Users/hungrated/Library/Android/sdk/tools:/Users/hungrated/Library/Android/sdk/platform-tools:/Users/hungrated/.maven/bin:/Users/hungrated/.chromedriver:/Users/hungrated/.scala/bin:/Users/hungrated/.spark/bin:/Users/hungrated/.spark:/Users/hungrated/Library/Android/sdk/tools:/Users/hungrated/Library/Android/sdk/tools/bin:/Users/hungrated/Library/Android/sdk/platform-tools:/Users/hungrated/Library/Android/sdk/emulator:/Users/hungrated/.nvm/versions/node/v8.9.3/bin/',\n",
       "        COLORTERM: 'truecolor',\n",
       "        COMMAND_MODE: 'unix2003',\n",
       "        TERM: 'xterm-256color',\n",
       "        HOME: '/Users/hungrated',\n",
       "        TMPDIR: '/var/folders/3p/8897fp6n5hx2rctdb75429lw0000gn/T/',\n",
       "        USER: 'hungrated',\n",
       "        XPC_SERVICE_NAME: '0',\n",
       "        LOGNAME: 'hungrated',\n",
       "        __CF_USER_TEXT_ENCODING: '0x1F5:0x19:0x34',\n",
       "        ITERM_SESSION_ID: 'w0t0p0:CA18AD13-F991-4B26-ACC1-B1B95DCB8A44',\n",
       "        SHLVL: '1',\n",
       "        OLDPWD: '/Users/hungrated',\n",
       "        ZSH: '/Users/hungrated/.oh-my-zsh',\n",
       "        PAGER: 'less',\n",
       "        LESS: '-R',\n",
       "        LSCOLORS: 'Gxfxcxdxbxegedabagacad',\n",
       "        LC_CTYPE: 'UTF-8',\n",
       "        NVM_DIR: '/Users/hungrated/.nvm',\n",
       "        NVM_CD_FLAGS: '-q',\n",
       "        NVM_BIN: '/Users/hungrated/.nvm/versions/node/v8.9.3/bin',\n",
       "        JAVA_HOME: '/Library/Java/JavaVirtualMachines/jdk1.8.0_161.jdk/Contents/Home',\n",
       "        CLASS_PATH: '/Library/Java/JavaVirtualMachines/jdk1.8.0_161.jdk/Contents/Home/lib',\n",
       "        ANDROID_HOME: '/Users/hungrated/Library/Android/sdk',\n",
       "        M2_HOME: '/Users/hungrated/.maven',\n",
       "        HADOOP_HOME: '/Users/hungrated/.hadoop',\n",
       "        HADOOP_COMMON_LIB_NATIVE_DIR: '/Users/hungrated/.hadoop/lib/native',\n",
       "        HADOOP_OPTS: '-Djava.library.path=/Users/hungrated/.hadoop/lib',\n",
       "        HIVE_HOME: '/Users/hungrated/.hive',\n",
       "        SCALA_HOME: '/Users/hungrated/.scala',\n",
       "        SPARK_HOME: '/Users/hungrated/.spark',\n",
       "        _: '/anaconda3/bin/jupyter',\n",
       "        JPY_PARENT_PID: '22327' },\n",
       "     pid: 22338,\n",
       "     features: \n",
       "      { debug: false,\n",
       "        uv: true,\n",
       "        ipv6: true,\n",
       "        tls_npn: true,\n",
       "        tls_alpn: true,\n",
       "        tls_sni: true,\n",
       "        tls_ocsp: true,\n",
       "        tls: true },\n",
       "     _needImmediateCallback: false,\n",
       "     _eval: '(function() {\\n/*\\n * BSD 3-Clause License\\n *\\n * Copyright (c) 2015, Nicolas Riesco and others as credited in the AUTHORS file\\n * All rights reserved.\\n *\\n * Redistribution and use in source and binary forms, with or without\\n * modification, are permitted provided that the following conditions are met:\\n *\\n * 1. Redistributions of source code must retain the above copyright notice,\\n * this list of conditions and the following disclaimer.\\n *\\n * 2. Redistributions in binary form must reproduce the above copyright notice,\\n * this list of conditions and the following disclaimer in the documentation\\n * and/or other materials provided with the distribution.\\n *\\n * 3. Neither the name of the copyright holder nor the names of its contributors\\n * may be used to endorse or promote products derived from this software without\\n * specific prior written permission.\\n *\\n * THIS SOFTWARE IS PROVIDED BY THE COPYRIGHT HOLDERS AND CONTRIBUTORS \"AS IS\"\\n * AND ANY EXPRESS OR IMPLIED WARRANTIES, INCLUDING, BUT NOT LIMITED TO, THE\\n * IMPLIED WARRANTIES OF MERCHANTABILITY AND FITNESS FOR A PARTICULAR PURPOSE\\n * ARE DISCLAIMED. IN NO EVENT SHALL THE COPYRIGHT HOLDER OR CONTRIBUTORS BE\\n * LIABLE FOR ANY DIRECT, INDIRECT, INCIDENTAL, SPECIAL, EXEMPLARY, OR\\n * CONSEQUENTIAL DAMAGES (INCLUDING, BUT NOT LIMITED TO, PROCUREMENT OF\\n * SUBSTITUTE GOODS OR SERVICES; LOSS OF USE, DATA, OR PROFITS; OR BUSINESS\\n * INTERRUPTION) HOWEVER CAUSED AND ON ANY THEORY OF LIABILITY, WHETHER IN\\n * CONTRACT, STRICT LIABILITY, OR TORT (INCLUDING NEGLIGENCE OR OTHERWISE)\\n * ARISING IN ANY WAY OUT OF THE USE OF THIS SOFTWARE, EVEN IF ADVISED OF THE\\n * POSSIBILITY OF SUCH DAMAGE.\\n *\\n */\\n\\nvar console = require(\"console\");\\nvar stream = require(\"stream\");\\nvar util = require(\"util\");\\n\\nfunction Stdout(id, opt) {\\n    stream.Transform.call(this, opt);\\n\\n    this._id = id;\\n}\\n\\nStdout.prototype = Object.create(stream.Transform.prototype);\\n\\nStdout.prototype._transform = function(data, encoding, callback) {\\n    var response = {\\n        id: this._id,\\n        stdout: data.toString(),\\n    };\\n    log(\"STDOUT:\", response);\\n    process.send(response);\\n    this.push(data);\\n    callback();\\n};\\n\\nfunction Stderr(id, opt) {\\n    stream.Transform.call(this, opt);\\n\\n    this._id = id;\\n}\\n\\nStderr.prototype = Object.create(stream.Transform.prototype);\\n\\nStderr.prototype._transform = function(data, encoding, callback) {\\n    var response = {\\n        id: this._id,\\n        stderr: data.toString(),\\n    };\\n    log(\"STDERR:\", response);\\n    process.send(response);\\n    this.push(data);\\n    callback();\\n};\\n\\nfunction Context(requester, id) {\\n    this.requester = requester;\\n    this.id = id;\\n\\n    this.stdout = new Stdout(this.id);\\n    this.stderr = new Stderr(this.id);\\n    this.console = new console.Console(this.stdout, this.stderr);\\n\\n    this._capturedStdout = null;\\n    this._capturedStderr = null;\\n    this._capturedConsole = null;\\n\\n    this._async = false;\\n    this._done = false;\\n\\n    // `$$` provides an interface for users to access the execution context\\n    this.$$ = Object.create(null);\\n\\n    this.$$.async = (function async(value) {\\n        this._async = (arguments.length === 0) ? true : !!value;\\n        return this._async;\\n    }).bind(this);\\n\\n    this.$$.done = (function done(result) {\\n        this.send((arguments.length === 0) ? {\\n            end: true,\\n        } : {\\n            mime: toMime(result),\\n            end: true,\\n        });\\n    }).bind(this);\\n\\n    this.$$.sendResult = resolvePromise.call(this,\\n        function sendResult(result, keepAlive) {\\n            if (keepAlive) this.$$.async();\\n\\n            this.send({\\n                mime: toMime(result),\\n                end: !keepAlive,\\n            });\\n        }\\n    );\\n\\n    this.$$.sendError = resolvePromise.call(this,\\n        function sendError(error, keepAlive) {\\n            if (keepAlive) this.$$.async();\\n\\n            this.send({\\n                error: formatError(error),\\n                end: !keepAlive,\\n            });\\n        }\\n    );\\n\\n    this.$$.mime = resolvePromise.call(this,\\n        function sendMime(mimeBundle, keepAlive) {\\n            if (keepAlive) this.$$.async();\\n\\n            this.send({\\n                mime: mimeBundle,\\n                end: !keepAlive,\\n            });\\n        }\\n    );\\n\\n    this.$$.text = resolvePromise.call(this,\\n        function sendText(text, keepAlive) {\\n            if (keepAlive) this.$$.async();\\n\\n            this.send({\\n                mime: {\\n                    \"text/plain\": text,\\n                },\\n                end: !keepAlive,\\n            });\\n        }\\n    );\\n\\n    this.$$.html = resolvePromise.call(this,\\n        function sendHtml(html, keepAlive) {\\n            if (keepAlive) this.$$.async();\\n\\n            this.send({\\n                mime: {\\n                    \"text/html\": html,\\n                },\\n                end: !keepAlive,\\n            });\\n        }\\n    );\\n\\n    this.$$.svg = resolvePromise.call(this,\\n        function sendSvg(svg, keepAlive) {\\n            if (keepAlive) this.$$.async();\\n\\n            this.send({\\n                mime: {\\n                    \"image/svg+xml\": svg,\\n                },\\n                end: !keepAlive,\\n            });\\n        }\\n    );\\n\\n    this.$$.png = resolvePromise.call(this,\\n        function sendPng(png, keepAlive) {\\n            if (keepAlive) this.$$.async();\\n\\n            this.send({\\n                mime: {\\n                    \"image/png\": png,\\n                },\\n                end: !keepAlive,\\n            });\\n        }\\n    );\\n\\n    this.$$.jpeg = resolvePromise.call(this,\\n        function sendJpeg(jpeg, keepAlive) {\\n            if (keepAlive) this.$$.async();\\n\\n            this.send({\\n                mime: {\\n                    \"image/jpeg\": jpeg,\\n                },\\n                end: !keepAlive,\\n            });\\n        }\\n    );\\n\\n    this.$$.json = resolvePromise.call(this,\\n        function sendJson(json, keepAlive) {\\n            if (keepAlive) this.$$.async();\\n\\n            this.send({\\n                mime: {\\n                    \"application/json\": json,\\n                },\\n                end: !keepAlive,\\n            });\\n        }\\n    );\\n\\n    this.$$.input = (function input(options, callback) {\\n        this.$$.async();\\n\\n        var inputRequest = {\\n            input: options,\\n        };\\n\\n        var inputCallback;\\n        if (typeof callback === \\'function\\') {\\n            inputCallback = function inputCallback(error, reply) {\\n                callback(error, reply.input);\\n            };\\n        }\\n\\n        var promise = this.requester.send(this, inputRequest, inputCallback);\\n        if (promise) {\\n            return promise.then(function(reply) { return reply.input; });\\n        }\\n    }).bind(this);\\n\\n    this.$$.display = (function createDisplay(id) {\\n        return (arguments.length === 0) ?\\n            new Display(this.id) :\\n            new Display(this.id, id);\\n    }).bind(this);\\n\\n    function isPromise(output) {\\n        if (!global.Promise || typeof global.Promise !== \"function\") {\\n            return false;\\n        }\\n        return output instanceof global.Promise;\\n    }\\n\\n    function resolvePromise(outputHandler) {\\n        return function(output, keepAlive) {\\n            if (isPromise(output)) {\\n                this.$$.async();\\n\\n                output.then(function(resolvedOutput) {\\n                    outputHandler.call(this, resolvedOutput, keepAlive);\\n                }.bind(this)).catch(function(error) {\\n                    this.send({\\n                        error: formatError(error),\\n                        end: true,\\n                    });\\n                }.bind(this));\\n\\n                return;\\n            }\\n\\n            outputHandler.apply(this, arguments);\\n        }.bind(this);\\n    }\\n}\\n\\nContext.prototype.send = function send(message) {\\n    message.id = this.id;\\n\\n    if (this._done) {\\n        log(\"SEND: DROPPED:\", message);\\n        return;\\n    }\\n\\n    if(message.end) {\\n        this._done = true;\\n        this._async = false;\\n    }\\n\\n    log(\"SEND:\", message);\\n\\n    process.send(message);\\n};\\n\\nContext.prototype.captureGlobalContext = function captureGlobalContext() {\\n    this._capturedStdout = process.stdout;\\n    this._capturedStderr = process.stderr;\\n    this._capturedConsole = console;\\n\\n    this.stdout.pipe(this._capturedStdout);\\n    this.stderr.pipe(this._capturedStderr);\\n    this.console.Console = this._capturedConsole.Console;\\n\\n    delete process.stdout;\\n    process.stdout = this.stdout;\\n\\n    delete process.stderr;\\n    process.stderr = this.stderr;\\n\\n    delete global.console;\\n    global.console = this.console;\\n\\n    delete global.$$;\\n    global.$$ = this.$$;\\n\\n    if (typeof global.$$mimer$$ !== \"function\") {\\n        global.$$mimer$$ = defaultMimer;\\n    }\\n\\n    delete global.$$mime$$;\\n    Object.defineProperty(global, \"$$mime$$\", {\\n        set: this.$$.mime,\\n        configurable: true,\\n        enumerable: false,\\n    });\\n\\n    delete global.$$html$$;\\n    Object.defineProperty(global, \"$$html$$\", {\\n        set: this.$$.html,\\n        configurable: true,\\n        enumerable: false,\\n    });\\n\\n    delete global.$$svg$$;\\n    Object.defineProperty(global, \"$$svg$$\", {\\n        set: this.$$.svg,\\n        configurable: true,\\n        enumerable: false,\\n    });\\n\\n    delete global.$$png$$;\\n    Object.defineProperty(global, \"$$png$$\", {\\n        set: this.$$.png,\\n        configurable: true,\\n        enumerable: false,\\n    });\\n\\n    delete global.$$jpeg$$;\\n    Object.defineProperty(global, \"$$jpeg$$\", {\\n        set: this.$$.jpeg,\\n        configurable: true,\\n        enumerable: false,\\n    });\\n\\n    delete global.$$async$$;\\n    Object.defineProperty(global, \"$$async$$\", {\\n        get: (function() {\\n            return this._async;\\n        }).bind(this),\\n        set: (function(value) {\\n            this._async = !!value;\\n        }).bind(this),\\n        configurable: true,\\n        enumerable: false,\\n    });\\n\\n    global.$$done$$ = this.$$.done.bind(this);\\n\\n    if (!global.hasOwnProperty(\"$$defaultMimer$$\")) {\\n        Object.defineProperty(global, \"$$defaultMimer$$\", {\\n            value: defaultMimer,\\n            configurable: false,\\n            writable: false,\\n            enumerable: false,\\n        });\\n    }\\n};\\n\\nContext.prototype.releaseGlobalContext = function releaseGlobalContext() {\\n    if (process.stdout === this.stdout) {\\n        this.stdout.unpipe();\\n\\n        delete process.stdout;\\n        process.stdout = this._capturedStdout;\\n\\n        this._capturedStdout = null;\\n    }\\n\\n    if (process.stderr === this.stderr) {\\n        this.stderr.unpipe();\\n\\n        delete process.stderr;\\n        process.stderr = this._capturedStderr;\\n\\n        this._capturedStderr = null;\\n    }\\n\\n    if (global.console === this.console) {\\n        delete global.console;\\n        global.console = this._capturedConsole;\\n\\n        this._capturedConsole = null;\\n    }\\n};\\n\\nfunction formatError(error) {\\n    return {\\n        ename: (error && error.name) ?\\n            error.name : typeof error,\\n        evalue: (error && error.message) ?\\n            error.message : util.inspect(error),\\n        traceback: (error && error.stack) ?\\n            error.stack.split(\"\\\\n\") : \"\",\\n    };\\n}\\n\\nfunction toMime(result) {\\n    var mimer = (typeof global.$$mimer$$ === \"function\") ?\\n        global.$$mimer$$ :\\n        defaultMimer;\\n    return mimer(result);\\n}\\n\\nfunction defaultMimer(result) {\\n    if (typeof result === \"undefined\") {\\n        return {\\n            \"text/plain\": \"undefined\"\\n        };\\n    }\\n\\n    if (result === null) {\\n        return {\\n            \"text/plain\": \"null\"\\n        };\\n    }\\n\\n    var mime;\\n    if (result._toMime) {\\n        try {\\n            mime = result._toMime();\\n        } catch (error) {}\\n    }\\n    if (typeof mime !== \"object\") {\\n        mime = {};\\n    }\\n\\n    if (!(\"text/plain\" in mime)) {\\n        try {\\n            mime[\"text/plain\"] = util.inspect(result);\\n        } catch (error) {}\\n    }\\n\\n    if (result._toHtml && !(\"text/html\" in mime)) {\\n        try {\\n            mime[\"text/html\"] = result._toHtml();\\n        } catch (error) {}\\n    }\\n\\n    if (result._toSvg && !(\"image/svg+xml\" in mime)) {\\n        try {\\n            mime[\"image/svg+xml\"] = result._toSvg();\\n        } catch (error) {}\\n    }\\n\\n    if (result._toPng && !(\"image/png\" in mime)) {\\n        try {\\n            mime[\"image/png\"] = result._toPng();\\n        } catch (error) {}\\n    }\\n\\n    if (result._toJpeg && !(\"image/jpeg\" in mime)) {\\n        try {\\n            mime[\"image/jpeg\"] = result._toJpeg();\\n        } catch (error) {}\\n    }\\n\\n    return mime;\\n}\\n\\n/*\\n * BSD 3-Clause License\\n *\\n * Copyright (c) 2017, Nicolas Riesco and others as credited in the AUTHORS file\\n * All rights reserved.\\n *\\n * Redistribution and use in source and binary forms, with or without\\n * modification, are permitted provided that the following conditions are met:\\n *\\n * 1. Redistributions of source code must retain the above copyright notice,\\n * this list of conditions and the following disclaimer.\\n *\\n * 2. Redistributions in binary form must reproduce the above copyright notice,\\n * this list of conditions and the following disclaimer in the documentation\\n * and/or other materials provided with the distribution.\\n *\\n * 3. Neither the name of the copyright holder nor the names of its contributors\\n * may be used to endorse or promote products derived from this software without\\n * specific prior written permission.\\n *\\n * THIS SOFTWARE IS PROVIDED BY THE COPYRIGHT HOLDERS AND CONTRIBUTORS \"AS IS\"\\n * AND ANY EXPRESS OR IMPLIED WARRANTIES, INCLUDING, BUT NOT LIMITED TO, THE\\n * IMPLIED WARRANTIES OF MERCHANTABILITY AND FITNESS FOR A PARTICULAR PURPOSE\\n * ARE DISCLAIMED. IN NO EVENT SHALL THE COPYRIGHT HOLDER OR CONTRIBUTORS BE\\n * LIABLE FOR ANY DIRECT, INDIRECT, INCIDENTAL, SPECIAL, EXEMPLARY, OR\\n * CONSEQUENTIAL DAMAGES (INCLUDING, BUT NOT LIMITED TO, PROCUREMENT OF\\n * SUBSTITUTE GOODS OR SERVICES; LOSS OF USE, DATA, OR PROFITS; OR BUSINESS\\n * INTERRUPTION) HOWEVER CAUSED AND ON ANY THEORY OF LIABILITY, WHETHER IN\\n * CONTRACT, STRICT LIABILITY, OR TORT (INCLUDING NEGLIGENCE OR OTHERWISE)\\n * ARISING IN ANY WAY OUT OF THE USE OF THIS SOFTWARE, EVEN IF ADVISED OF THE\\n * POSSIBILITY OF SUCH DAMAGE.\\n *\\n */\\n\\nfunction Display(context_id, display_id) {\\n    var send;\\n\\n    this.mime = function mime(mimeBundle) {\\n        send(mimeBundle);\\n    };\\n\\n    this.text = function text(text) {\\n        send({\"text/plain\": text});\\n    };\\n\\n    this.html = function html(html) {\\n        send({\"text/html\": html});\\n    };\\n\\n    this.svg = function svg(svg) {\\n        send({\"image/svg+xml\": svg});\\n    };\\n\\n    this.png = function png(png) {\\n        send({\"image/png\": png});\\n    };\\n\\n    this.jpeg = function jpeg(jpeg) {\\n        send({\"image/jpeg\": jpeg});\\n    };\\n\\n    this.json = function json(json) {\\n        send({\"application/json\": json});\\n    };\\n\\n    this.close = function close() {\\n        process.send({\\n            id: context_id,\\n            display: {\\n                close: display_id,\\n            },\\n        });\\n    };\\n\\n    if (arguments.length < 2) {\\n        // case: without a display_id\\n        send = function send(mime) {\\n            process.send({\\n                id: context_id,\\n                display: {\\n                    mime: mime,\\n                },\\n            });\\n        };\\n    } else {\\n        // case: with a display_id\\n        send = function send(mime) {\\n            process.send({\\n                id: context_id,\\n                display: {\\n                    display_id: display_id,\\n                    mime: mime,\\n                },\\n            });\\n        };\\n\\n        // open the display_id\\n        process.send({\\n            id: context_id,\\n            display: {\\n                open: display_id,\\n            },\\n        });\\n    }\\n}\\n\\n/*\\n * BSD 3-Clause License\\n *\\n * Copyright (c) 2017, Nicolas Riesco and others as credited in the AUTHORS file\\n * All rights reserved.\\n *\\n * Redistribution and use in source and binary forms, with or without\\n * modification, are permitted provided that the following conditions are met:\\n *\\n * 1. Redistributions of source code must retain the above copyright notice,\\n * this list of conditions and the following disclaimer.\\n *\\n * 2. Redistributions in binary form must reproduce the above copyright notice,\\n * this list of conditions and the following disclaimer in the documentation\\n * and/or other materials provided with the distribution.\\n *\\n * 3. Neither the name of the copyright holder nor the names of its contributors\\n * may be used to endorse or promote products derived from this software without\\n * specific prior written permission.\\n *\\n * THIS SOFTWARE IS PROVIDED BY THE COPYRIGHT HOLDERS AND CONTRIBUTORS \"AS IS\"\\n * AND ANY EXPRESS OR IMPLIED WARRANTIES, INCLUDING, BUT NOT LIMITED TO, THE\\n * IMPLIED WARRANTIES OF MERCHANTABILITY AND FITNESS FOR A PARTICULAR PURPOSE\\n * ARE DISCLAIMED. IN NO EVENT SHALL THE COPYRIGHT HOLDER OR CONTRIBUTORS BE\\n * LIABLE FOR ANY DIRECT, INDIRECT, INCIDENTAL, SPECIAL, EXEMPLARY, OR\\n * CONSEQUENTIAL DAMAGES (INCLUDING, BUT NOT LIMITED TO, PROCUREMENT OF\\n * SUBSTITUTE GOODS OR SERVICES; LOSS OF USE, DATA, OR PROFITS; OR BUSINESS\\n * INTERRUPTION) HOWEVER CAUSED AND ON ANY THEORY OF LIABILITY, WHETHER IN\\n * CONTRACT, STRICT LIABILITY, OR TORT (INCLUDING NEGLIGENCE OR OTHERWISE)\\n * ARISING IN ANY WAY OUT OF THE USE OF THIS SOFTWARE, EVEN IF ADVISED OF THE\\n * POSSIBILITY OF SUCH DAMAGE.\\n *\\n */\\n\\nfunction Requester() {\\n    // id for next request\\n    this.id = 0;\\n\\n    // callback associated with a request (indexed by id)\\n    this.callbacks = {};\\n\\n    // the Promise resolve callback associated with a request (indexed by id)\\n    this.resolves = {};\\n\\n    // the Promise reject callback associated with a request (indexed by id)\\n    this.rejects = {};\\n\\n    // the string to be returned to a request (indexed by id)\\n    this.responses = {};\\n}\\n\\n// send a request\\nRequester.prototype.send = function send(context, request, callback) {\\n    var id = this.id++;\\n\\n    if (callback) {\\n        this.callbacks[id] = callback;\\n    }\\n\\n    var promise;\\n    if (global.Promise) {\\n        promise = new Promise(function(resolve, reject) {\\n            if (!this.responses.hasOwnProperty(id)) {\\n                this.resolves[id] = resolve;\\n                this.rejects[id] = reject;\\n                return;\\n            }\\n\\n            var response = this.responses[id];\\n            delete this.responses[id];\\n            resolve(response);\\n        }.bind(this));\\n    }\\n\\n    request.id = id;\\n\\n    context.send({\\n        request: request,\\n    });\\n\\n    return promise;\\n};\\n\\n// pass reply to the callbacks associated with a request\\nRequester.prototype.receive = function receive(id, reply) {\\n    var callback = this.callbacks[id];\\n    if (callback) {\\n        delete this.callbacks[id];\\n        callback(null, reply);\\n    }\\n    \\n    var resolve = this.resolves[id];\\n    if (resolve) {\\n        delete this.resolves[id];\\n        delete this.rejects[id];\\n        resolve(reply);\\n    }\\n};\\n\\n/*\\n * BSD 3-Clause License\\n *\\n * Copyright (c) 2015, Nicolas Riesco and others as credited in the AUTHORS file\\n * All rights reserved.\\n *\\n * Redistribution and use in source and binary forms, with or without\\n * modification, are permitted provided that the following conditions are met:\\n *\\n * 1. Redistributions of source code must retain the above copyright notice,\\n * this list of conditions and the following disclaimer.\\n *\\n * 2. Redistributions in binary form must reproduce the above copyright notice,\\n * this list of conditions and the following disclaimer in the documentation\\n * and/or other materials provided with the distribution.\\n *\\n * 3. Neither the name of the copyright holder nor the names of its contributors\\n * may be used to endorse or promote products derived from this software without\\n * specific prior written permission.\\n *\\n * THIS SOFTWARE IS PROVIDED BY THE COPYRIGHT HOLDERS AND CONTRIBUTORS \"AS IS\"\\n * AND ANY EXPRESS OR IMPLIED WARRANTIES, INCLUDING, BUT NOT LIMITED TO, THE\\n * IMPLIED WARRANTIES OF MERCHANTABILITY AND FITNESS FOR A PARTICULAR PURPOSE\\n * ARE DISCLAIMED. IN NO EVENT SHALL THE COPYRIGHT HOLDER OR CONTRIBUTORS BE\\n * LIABLE FOR ANY DIRECT, INDIRECT, INCIDENTAL, SPECIAL, EXEMPLARY, OR\\n * CONSEQUENTIAL DAMAGES (INCLUDING, BUT NOT LIMITED TO, PROCUREMENT OF\\n * SUBSTITUTE GOODS OR SERVICES; LOSS OF USE, DATA, OR PROFITS; OR BUSINESS\\n * INTERRUPTION) HOWEVER CAUSED AND ON ANY THEORY OF LIABILITY, WHETHER IN\\n * CONTRACT, STRICT LIABILITY, OR TORT (INCLUDING NEGLIGENCE OR OTHERWISE)\\n * ARISING IN ANY WAY OUT OF THE USE OF THIS SOFTWARE, EVEN IF ADVISED OF THE\\n * POSSIBILITY OF SUCH DAMAGE.\\n *\\n */\\n\\nvar vm = require(\"vm\");\\n\\n// Shared variables\\nvar DEBUG = !!process.env.DEBUG;\\nvar log;\\nvar requester;\\nvar initialContext;\\n\\n// Init IPC server\\ninit();\\n\\nreturn;\\n\\nfunction init() {\\n    // Setup logger\\n    log = DEBUG ?\\n        function log() {\\n            process.send({\\n                log: \"SERVER: \" + util.format.apply(this, arguments),\\n            });\\n        } :\\n        function noop() {};\\n\\n    // Create instance to send requests\\n    requester = new Requester();\\n\\n    // Capture the initial context\\n    // (id left undefined to indicate this is the initial context)\\n    initialContext = new Context(requester);\\n    initialContext.captureGlobalContext();\\n\\n    Object.defineProperty(global, \"$$defaultMimer$$\", {\\n        value: defaultMimer,\\n        configurable: false,\\n        writable: false,\\n        enumerable: false,\\n    });\\n\\n    process.on(\"message\", onMessage.bind(this));\\n\\n    process.on(\"uncaughtException\", onUncaughtException.bind(this));\\n\\n    process.send({\\n        status: \"online\",\\n    });\\n}\\n\\nfunction onUncaughtException(error) {\\n    log(\"UNCAUGHTEXCEPTION:\", error.stack);\\n    process.send({\\n        stderr: error.stack.toString(),\\n    });\\n}\\n\\nfunction onMessage(message) {\\n    log(\"RECEIVED:\", message);\\n\\n    var action = message[0];\\n    var code = message[1];\\n    var id = message[2];\\n\\n    initialContext.releaseGlobalContext();\\n    var context = new Context(requester, id);\\n    context.captureGlobalContext();\\n\\n    try {\\n        if (action === \"getAllPropertyNames\") {\\n            onNameRequest(code, context);\\n        } else if (action === \"inspect\") {\\n            onInspectRequest(code, context);\\n        } else if (action === \"run\") {\\n            onRunRequest(code, context);\\n        } else if (action === \"reply\") {\\n            onReply(message);\\n        } else {\\n            throw new Error(\"NEL: Unhandled action: \" + action);\\n        }\\n    } catch (error) {\\n        context.$$.sendError(error);\\n    }\\n\\n    context.releaseGlobalContext();\\n    initialContext.captureGlobalContext();\\n    initialContext._done = false;\\n}\\n\\nfunction onReply(message) {\\n    var reply = message[1];\\n    var id = message[3];\\n    requester.receive(id, reply);\\n}\\n\\nfunction onNameRequest(code, context) {\\n    var message = {\\n        id: context.id,\\n        names: getAllPropertyNames(run(code)),\\n        end: true,\\n    };\\n    context.send(message);\\n}\\n\\nfunction onInspectRequest(code, context) {\\n    var message = {\\n        id: context.id,\\n        inspection: inspect(run(code)),\\n        end: true,\\n    };\\n    context.send(message);\\n}\\n\\nfunction onRunRequest(code, context) {\\n    var result = run(code);\\n\\n    // If a result has already been sent, do not send this result.\\n    if (context._done) {\\n        return;\\n    }\\n\\n    // If the result is a Promise, send the result fulfilled by the promise\\n    if (isPromise(result)) {\\n        context.$$.sendResult(result);\\n        return;\\n    }\\n\\n    // If async mode has been enabled (and the result is not a Promise),\\n    // do not send this result.\\n    if (context._async) {\\n        return;\\n    }\\n\\n    // If no result has been sent yet and async mode has not been enabled,\\n    // send this result.\\n    context.$$.sendResult(result);\\n\\n    return;\\n\\n    function isPromise(output) {\\n        if (!global.Promise || typeof global.Promise !== \"function\") {\\n            return false;\\n        }\\n        return output instanceof global.Promise;\\n    }\\n}\\n\\nfunction getAllPropertyNames(object) {\\n    var propertyList = [];\\n\\n    if (object === undefined) {\\n        return [];\\n    }\\n\\n    if (object === null) {\\n        return [];\\n    }\\n\\n    var prototype;\\n    if (typeof object === \"boolean\") {\\n        prototype = Boolean.prototype;\\n    } else if (typeof object === \"number\") {\\n        prototype = Number.prototype;\\n    } else if (typeof object === \"string\") {\\n        prototype = String.prototype;\\n    } else {\\n        prototype = object;\\n    }\\n\\n    var prototypeList = [prototype];\\n\\n    function pushToPropertyList(e) {\\n        if (propertyList.indexOf(e) === -1) {\\n            propertyList.push(e);\\n        }\\n    }\\n\\n    while (true) {\\n        var names;\\n        try {\\n            names = Object.getOwnPropertyNames(prototype).sort();\\n        } catch (e) {\\n            break;\\n        }\\n        names.forEach(pushToPropertyList);\\n\\n        prototype = Object.getPrototypeOf(prototype);\\n        if (prototype === null) {\\n            break;\\n        }\\n\\n        if (prototypeList.indexOf(prototype) === -1) {\\n            prototypeList.push(prototype);\\n        }\\n    }\\n\\n    return propertyList;\\n}\\n\\nfunction inspect(object) {\\n    if (object === undefined) {\\n        return {\\n            string: \"undefined\",\\n            type: \"Undefined\",\\n        };\\n    }\\n\\n    if (object === null) {\\n        return {\\n            string: \"null\",\\n            type: \"Null\",\\n        };\\n    }\\n\\n    if (typeof object === \"boolean\") {\\n        return {\\n            string: object ? \"true\" : \"false\",\\n            type: \"Boolean\",\\n            constructorList: [\"Boolean\", \"Object\"],\\n        };\\n    }\\n\\n    if (typeof object === \"number\") {\\n        return {\\n            string: util.inspect(object),\\n            type: \"Number\",\\n            constructorList: [\"Number\", \"Object\"],\\n        };\\n    }\\n\\n    if (typeof object === \"string\") {\\n        return {\\n            string: object,\\n            type: \"String\",\\n            constructorList: [\"String\", \"Object\"],\\n            length: object.length,\\n        };\\n    }\\n\\n    if (typeof object === \"function\") {\\n        return {\\n            string: object.toString(),\\n            type: \"Function\",\\n            constructorList: [\"Function\", \"Object\"],\\n            length: object.length,\\n        };\\n    }\\n\\n    var constructorList = getConstructorList(object);\\n    var result = {\\n        string: toString(object),\\n        type: constructorList[0] || \"\",\\n        constructorList: constructorList,\\n    };\\n\\n    if (\"length\" in object) {\\n        result.length = object.length;\\n    }\\n\\n    return result;\\n\\n    function toString(object) {\\n        try {\\n            return util.inspect(object.valueOf());\\n        } catch (e) {\\n            return util.inspect(object);\\n        }\\n    }\\n\\n    function getConstructorList(object) {\\n        var constructorList = [];\\n\\n        var prototype = Object.getPrototypeOf(object);\\n        while (true) {\\n            try {\\n                constructorList.push(prototype.constructor.name);\\n            } catch (e) {\\n                break;\\n            }\\n            prototype = Object.getPrototypeOf(prototype);\\n        }\\n\\n        return constructorList;\\n    }\\n}\\n\\nfunction run(code) {\\n    return vm.runInThisContext(code);\\n}\\n\\n})();',\n",
       "     execPath: '/Users/hungrated/.nvm/versions/node/v8.9.3/bin/node',\n",
       "     debugPort: 9229,\n",
       "     _startProfilerIdleNotifier: [Function: _startProfilerIdleNotifier],\n",
       "     _stopProfilerIdleNotifier: [Function: _stopProfilerIdleNotifier],\n",
       "     _getActiveRequests: [Function: _getActiveRequests],\n",
       "     _getActiveHandles: [Function: _getActiveHandles],\n",
       "     reallyExit: [Function: reallyExit],\n",
       "     abort: [Function: abort],\n",
       "     chdir: [Function: chdir],\n",
       "     cwd: [Function: cwd],\n",
       "     umask: [Function: umask],\n",
       "     getuid: [Function: getuid],\n",
       "     geteuid: [Function: geteuid],\n",
       "     setuid: [Function: setuid],\n",
       "     seteuid: [Function: seteuid],\n",
       "     setgid: [Function: setgid],\n",
       "     setegid: [Function: setegid],\n",
       "     getgid: [Function: getgid],\n",
       "     getegid: [Function: getegid],\n",
       "     getgroups: [Function: getgroups],\n",
       "     setgroups: [Function: setgroups],\n",
       "     initgroups: [Function: initgroups],\n",
       "     _kill: [Function: _kill],\n",
       "     _debugProcess: [Function: _debugProcess],\n",
       "     _debugPause: [Function: _debugPause],\n",
       "     _debugEnd: [Function: _debugEnd],\n",
       "     hrtime: [Function: hrtime],\n",
       "     cpuUsage: [Function: cpuUsage],\n",
       "     dlopen: [Function: dlopen],\n",
       "     uptime: [Function: uptime],\n",
       "     memoryUsage: [Function: memoryUsage],\n",
       "     binding: [Function: binding],\n",
       "     _linkedBinding: [Function: _linkedBinding],\n",
       "     _setupDomainUse: [Function: _setupDomainUse],\n",
       "     _events: \n",
       "      { warning: [Function],\n",
       "        newListener: [Array],\n",
       "        removeListener: [Array],\n",
       "        internalMessage: [Function],\n",
       "        message: [Function: bound onMessage],\n",
       "        uncaughtException: [Function: bound onUncaughtException] },\n",
       "     _rawDebug: [Function],\n",
       "     _eventsCount: 6,\n",
       "     domain: null,\n",
       "     _maxListeners: undefined,\n",
       "     _fatalException: [Function],\n",
       "     _exiting: false,\n",
       "     assert: [Function],\n",
       "     config: { target_defaults: [Object], variables: [Object] },\n",
       "     emitWarning: [Function],\n",
       "     nextTick: [Function: nextTick],\n",
       "     _tickCallback: [Function: _tickCallback],\n",
       "     _tickDomainCallback: [Function: _tickDomainCallback],\n",
       "     stdin: [Getter],\n",
       "     openStdin: [Function],\n",
       "     exit: [Function],\n",
       "     kill: [Function],\n",
       "     channel: \n",
       "      Pipe {\n",
       "        writeQueueSize: 0,\n",
       "        buffering: false,\n",
       "        onread: [Function],\n",
       "        sockets: [Object] },\n",
       "     _channel: [Getter/Setter],\n",
       "     _handleQueue: null,\n",
       "     _pendingMessage: null,\n",
       "     send: [Function],\n",
       "     _send: [Function],\n",
       "     connected: true,\n",
       "     disconnect: [Function],\n",
       "     _disconnect: [Function],\n",
       "     argv0: '/Users/hungrated/.nvm/versions/node/v8.9.3/bin/node',\n",
       "     stdout: \n",
       "      Transform {\n",
       "        _readableState: [Object],\n",
       "        readable: true,\n",
       "        domain: null,\n",
       "        _events: [Object],\n",
       "        _eventsCount: 3,\n",
       "        _maxListeners: undefined,\n",
       "        _writableState: [Object],\n",
       "        writable: true,\n",
       "        allowHalfOpen: true,\n",
       "        _transformState: [Object],\n",
       "        _id: 3 },\n",
       "     stderr: \n",
       "      Transform {\n",
       "        _readableState: [Object],\n",
       "        readable: true,\n",
       "        domain: null,\n",
       "        _events: [Object],\n",
       "        _eventsCount: 3,\n",
       "        _maxListeners: undefined,\n",
       "        _writableState: [Object],\n",
       "        writable: true,\n",
       "        allowHalfOpen: true,\n",
       "        _transformState: [Object],\n",
       "        _id: 3 } },\n",
       "  Buffer: \n",
       "   { [Function: Buffer]\n",
       "     poolSize: 8192,\n",
       "     from: [Function],\n",
       "     alloc: [Function],\n",
       "     allocUnsafe: [Function],\n",
       "     allocUnsafeSlow: [Function],\n",
       "     isBuffer: [Function: isBuffer],\n",
       "     compare: [Function: compare],\n",
       "     isEncoding: [Function],\n",
       "     concat: [Function],\n",
       "     byteLength: [Function: byteLength],\n",
       "     [Symbol(node.isEncoding)]: [Function] },\n",
       "  clearImmediate: [Function],\n",
       "  clearInterval: [Function],\n",
       "  clearTimeout: [Function],\n",
       "  setImmediate: { [Function: setImmediate] [Symbol(util.promisify.custom)]: [Function] },\n",
       "  setInterval: [Function],\n",
       "  setTimeout: { [Function: setTimeout] [Symbol(util.promisify.custom)]: [Function] },\n",
       "  __filename: '[eval]',\n",
       "  exports: {},\n",
       "  module: \n",
       "   Module {\n",
       "     id: '[eval]',\n",
       "     exports: {},\n",
       "     parent: undefined,\n",
       "     filename: '/Users/hungrated/Documents/Codes/IDEA/javascript-practices/src/[eval]',\n",
       "     loaded: false,\n",
       "     children: [],\n",
       "     paths: \n",
       "      [ '/Users/hungrated/Documents/Codes/IDEA/javascript-practices/src/node_modules',\n",
       "        '/Users/hungrated/Documents/Codes/IDEA/javascript-practices/node_modules',\n",
       "        '/Users/hungrated/Documents/Codes/IDEA/node_modules',\n",
       "        '/Users/hungrated/Documents/Codes/node_modules',\n",
       "        '/Users/hungrated/Documents/node_modules',\n",
       "        '/Users/hungrated/node_modules',\n",
       "        '/Users/node_modules',\n",
       "        '/node_modules' ] },\n",
       "  __dirname: '.',\n",
       "  require: \n",
       "   { [Function: require]\n",
       "     resolve: { [Function: resolve] paths: [Function: paths] },\n",
       "     main: undefined,\n",
       "     extensions: { '.js': [Function], '.json': [Function], '.node': [Function] },\n",
       "     cache: {} },\n",
       "  '$$mimer$$': [Function: defaultMimer],\n",
       "  '$$done$$': [Function: bound bound done],\n",
       "  console: \n",
       "   Console {\n",
       "     log: [Function: bound log],\n",
       "     info: [Function: bound log],\n",
       "     warn: [Function: bound warn],\n",
       "     error: [Function: bound warn],\n",
       "     dir: [Function: bound dir],\n",
       "     time: [Function: bound time],\n",
       "     timeEnd: [Function: bound timeEnd],\n",
       "     trace: [Function: bound trace],\n",
       "     assert: [Function: bound assert],\n",
       "     clear: [Function: bound clear],\n",
       "     count: [Function: bound count],\n",
       "     countReset: [Function: bound countReset],\n",
       "     group: [Function: bound group],\n",
       "     groupCollapsed: [Function: bound group],\n",
       "     groupEnd: [Function: bound groupEnd],\n",
       "     Console: [Function: Console],\n",
       "     [Symbol(counts)]: Map {} },\n",
       "  '$$': \n",
       "   { async: [Function: bound async],\n",
       "     done: [Function: bound done],\n",
       "     sendResult: [Function: bound ],\n",
       "     sendError: [Function: bound ],\n",
       "     mime: [Function: bound ],\n",
       "     text: [Function: bound ],\n",
       "     html: [Function: bound ],\n",
       "     svg: [Function: bound ],\n",
       "     png: [Function: bound ],\n",
       "     jpeg: [Function: bound ],\n",
       "     json: [Function: bound ],\n",
       "     input: [Function: bound input],\n",
       "     display: [Function: bound createDisplay] } }"
      ]
     },
     "execution_count": 3,
     "metadata": {},
     "output_type": "execute_result"
    }
   ],
   "source": [
    "this"
   ]
  },
  {
   "cell_type": "code",
   "execution_count": null,
   "metadata": {},
   "outputs": [],
   "source": []
  }
 ],
 "metadata": {
  "kernelspec": {
   "display_name": "Javascript (Node.js)",
   "language": "javascript",
   "name": "javascript"
  },
  "language_info": {
   "file_extension": ".js",
   "mimetype": "application/javascript",
   "name": "javascript",
   "version": "8.9.3"
  }
 },
 "nbformat": 4,
 "nbformat_minor": 2
}
