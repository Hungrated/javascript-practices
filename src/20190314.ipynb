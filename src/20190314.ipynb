{
 "cells": [
  {
   "cell_type": "code",
   "execution_count": 21,
   "metadata": {},
   "outputs": [
    {
     "name": "stdout",
     "output_type": "stream",
     "text": [
      "2\n"
     ]
    },
    {
     "data": {
      "text/plain": [
       "undefined"
      ]
     },
     "execution_count": 21,
     "metadata": {},
     "output_type": "execute_result"
    }
   ],
   "source": [
    "var str = 'vc';\n",
    "\n",
    "var lengthOfLongestSubString = function(str) {\n",
    "    \n",
    "    if(!str || str.length == 0 || str.length == 1) {\n",
    "        return 0 || str.length;\n",
    "    }\n",
    "    \n",
    "     var isUnique = function(str, start, length) {\n",
    "        var _str = str.substr(start, length);\n",
    "        var _count = {};\n",
    "        for(var i = 0; i < _str.length; i++) {\n",
    "            c = _str[i];\n",
    "            if(!_count[c]) {\n",
    "               _count[c] = true;\n",
    "           } else {\n",
    "               return false;\n",
    "           }\n",
    "        }\n",
    "        return true;\n",
    "    }\n",
    "\n",
    "    var test = function(str, start, len) {\n",
    "        for(var i = start; i <= str.length - len; i++) {\n",
    "            if(isUnique(str, i, len)) {\n",
    "                return i;\n",
    "            }\n",
    "        }\n",
    "        return -1;\n",
    "    }\n",
    "\n",
    "    var _len = 1;\n",
    "    var len = 2;\n",
    "    var start = 0;\n",
    "\n",
    "    while(len <= str.length || start <= str.length - len) {\n",
    "        var isUniqueRes = test(str, start, len);\n",
    "        if(isUniqueRes == -1) {\n",
    "            return _len;\n",
    "        } else {\n",
    "            _len = len;\n",
    "            len++;\n",
    "            start = isUniqueRes;\n",
    "        }\n",
    "    }\n",
    "    return _len;\n",
    "}\n",
    "\n",
    "console.log(lengthOfLongestSubString(str));\n"
   ]
  },
  {
   "cell_type": "code",
   "execution_count": null,
   "metadata": {},
   "outputs": [],
   "source": []
  }
 ],
 "metadata": {
  "kernelspec": {
   "display_name": "Javascript (Node.js)",
   "language": "javascript",
   "name": "javascript"
  },
  "language_info": {
   "file_extension": ".js",
   "mimetype": "application/javascript",
   "name": "javascript",
   "version": "8.9.3"
  }
 },
 "nbformat": 4,
 "nbformat_minor": 2
}
