{
 "cells": [
  {
   "cell_type": "code",
   "execution_count": 1,
   "metadata": {
    "scrolled": true
   },
   "outputs": [
    {
     "name": "stdout",
     "output_type": "stream",
     "text": [
      "script start\n",
      "async1 start\n",
      "async2\n",
      "promise1\n",
      "script end\n"
     ]
    },
    {
     "data": {
      "text/plain": [
       "undefined"
      ]
     },
     "execution_count": 1,
     "metadata": {},
     "output_type": "execute_result"
    }
   ],
   "source": [
    "//请写出输出内容\n",
    "async function async1() {\n",
    "    console.log('async1 start');\n",
    "    await async2();\n",
    "    console.log('async1 end');\n",
    "}\n",
    "async function async2() {\n",
    "\tconsole.log('async2');\n",
    "}\n",
    "\n",
    "console.log('script start');\n",
    "\n",
    "setTimeout(function() {\n",
    "    console.log('setTimeout');\n",
    "}, 0)\n",
    "\n",
    "async1();\n",
    "\n",
    "new Promise(function(resolve) {\n",
    "    console.log('promise1');\n",
    "    resolve();\n",
    "}).then(function() {\n",
    "    console.log('promise2');\n",
    "});\n",
    "console.log('script end');"
   ]
  },
  {
   "cell_type": "code",
   "execution_count": 2,
   "metadata": {},
   "outputs": [
    {
     "name": "stdout",
     "output_type": "stream",
     "text": [
      "async1 end\n",
      "promise2\n",
      "setTimeout\n"
     ]
    },
    {
     "data": {
      "text/plain": [
       "undefined"
      ]
     },
     "execution_count": 2,
     "metadata": {},
     "output_type": "execute_result"
    }
   ],
   "source": [
    "var arr = [ [1, 2, 2], [3, 4, 5, 5], [6, 7, 8, 9, [11, 12, [12, 13, [14] ] ] ], 10];"
   ]
  },
  {
   "cell_type": "code",
   "execution_count": 3,
   "metadata": {},
   "outputs": [
    {
     "data": {
      "text/plain": [
       "[ [ 1, 2, 2 ],\n",
       "  [ 3, 4, 5, 5 ],\n",
       "  [ 6, 7, 8, 9, [ 11, 12, [Array] ] ],\n",
       "  10 ]"
      ]
     },
     "execution_count": 3,
     "metadata": {},
     "output_type": "execute_result"
    }
   ],
   "source": [
    "arr"
   ]
  },
  {
   "cell_type": "code",
   "execution_count": 4,
   "metadata": {},
   "outputs": [
    {
     "data": {
      "text/plain": [
       "[ 1, 2, 3, 4, 5, 6, 7, 8, 9, 10, 11, 12, 13, 14 ]"
      ]
     },
     "execution_count": 4,
     "metadata": {},
     "output_type": "execute_result"
    }
   ],
   "source": [
    "Array.from(new Set(arr.toString().split(',').map(x => Number(x)))).sort((a,b) => a - b);"
   ]
  },
  {
   "cell_type": "code",
   "execution_count": 5,
   "metadata": {},
   "outputs": [
    {
     "data": {
      "text/plain": [
       "'[[1,2,2],[3,4,5,5],[6,7,8,9,[11,12,[12,13,[14]]]],10]'"
      ]
     },
     "execution_count": 5,
     "metadata": {},
     "output_type": "execute_result"
    }
   ],
   "source": [
    "JSON.stringify(arr);"
   ]
  },
  {
   "cell_type": "code",
   "execution_count": 6,
   "metadata": {},
   "outputs": [
    {
     "data": {
      "text/plain": [
       "[ [ 1, 2, 2 ],\n",
       "  [ 3, 4, 5, 5 ],\n",
       "  [ 6, 7, 8, 9, [ 11, 12, [Array] ] ],\n",
       "  10 ]"
      ]
     },
     "execution_count": 6,
     "metadata": {},
     "output_type": "execute_result"
    }
   ],
   "source": [
    "JSON.parse(JSON.stringify(arr));"
   ]
  },
  {
   "cell_type": "code",
   "execution_count": 7,
   "metadata": {},
   "outputs": [
    {
     "name": "stdout",
     "output_type": "stream",
     "text": [
      "1 1\n"
     ]
    },
    {
     "data": {
      "text/plain": [
       "undefined"
      ]
     },
     "execution_count": 7,
     "metadata": {},
     "output_type": "execute_result"
    },
    {
     "name": "stdout",
     "output_type": "stream",
     "text": [
      "2 10\n"
     ]
    }
   ],
   "source": [
    "let a = 0\n",
    "let b = async () => {\n",
    "  a = a + await 10\n",
    "  console.log('2', a) // -> '2' 10\n",
    "}\n",
    "b()\n",
    "a++\n",
    "console.log('1', a) // -> '1' 1"
   ]
  },
  {
   "cell_type": "code",
   "execution_count": 8,
   "metadata": {},
   "outputs": [
    {
     "name": "stdout",
     "output_type": "stream",
     "text": [
      "my name is 三毛\n",
      "wangwang\n",
      "wangwang\n",
      "my name is simao\n",
      "true\n"
     ]
    },
    {
     "data": {
      "text/plain": [
       "undefined"
      ]
     },
     "execution_count": 8,
     "metadata": {},
     "output_type": "execute_result"
    }
   ],
   "source": [
    "// 实现一个new\n",
    "var Dog = function(name) {\n",
    "  this.name = name\n",
    "}\n",
    "Dog.prototype.bark = function() {\n",
    "  console.log('wangwang')\n",
    "}\n",
    "Dog.prototype.sayName = function() {\n",
    "  console.log('my name is ' + this.name)\n",
    "}\n",
    "let sanmao = new Dog('三毛')\n",
    "sanmao.sayName()\n",
    "sanmao.bark()\n",
    "// new 的作用\n",
    "// 创建一个新对象obj\n",
    "// 把obj的__proto__指向Dog.prototype 实现继承\n",
    "// 执行构造函数，传递参数，改变this指向 Dog.call(obj, ...args)\n",
    "// 最后把obj赋值给sanmao\n",
    "function _new(fn, ...args) {\n",
    "    const obj = {};\n",
    "    Object.setPrototypeOf(obj, fn.prototype);\n",
    "    const result = fn.apply(obj, args);\n",
    "    // 根据规范，返回 null 和 undefined 不处理，依然返回obj\n",
    "    return result instanceof Object ? result : obj;\n",
    "}\n",
    "var simao = _new(Dog, 'simao')\n",
    "simao.bark()\n",
    "simao.sayName()\n",
    "console.log(simao instanceof Dog) // true"
   ]
  },
  {
   "cell_type": "code",
   "execution_count": 9,
   "metadata": {},
   "outputs": [
    {
     "data": {
      "text/plain": [
       "Dog { name: 'simao' }"
      ]
     },
     "execution_count": 9,
     "metadata": {},
     "output_type": "execute_result"
    }
   ],
   "source": [
    "simao"
   ]
  },
  {
   "cell_type": "code",
   "execution_count": 10,
   "metadata": {},
   "outputs": [
    {
     "data": {
      "text/plain": [
       "'[object Object]'"
      ]
     },
     "execution_count": 10,
     "metadata": {},
     "output_type": "execute_result"
    }
   ],
   "source": [
    "simao.toString()"
   ]
  },
  {
   "cell_type": "code",
   "execution_count": null,
   "metadata": {},
   "outputs": [],
   "source": []
  }
 ],
 "metadata": {
  "kernelspec": {
   "display_name": "Javascript (Node.js)",
   "language": "javascript",
   "name": "javascript"
  },
  "language_info": {
   "file_extension": ".js",
   "mimetype": "application/javascript",
   "name": "javascript",
   "version": "8.9.3"
  }
 },
 "nbformat": 4,
 "nbformat_minor": 2
}
