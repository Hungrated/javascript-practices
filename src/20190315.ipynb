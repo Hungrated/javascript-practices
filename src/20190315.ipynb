{
 "cells": [
  {
   "cell_type": "code",
   "execution_count": 19,
   "metadata": {},
   "outputs": [
    {
     "name": "stdout",
     "output_type": "stream",
     "text": [
      "159246837\n"
     ]
    },
    {
     "data": {
      "text/plain": [
       "undefined"
      ]
     },
     "execution_count": 19,
     "metadata": {},
     "output_type": "execute_result"
    }
   ],
   "source": [
    "var convert = function(s, numRows) {\n",
    "    if(!s) {\n",
    "        return \"\";\n",
    "    }\n",
    "    numRows = numRows || 3;\n",
    "    if(numRows == 1) {\n",
    "       return s;\n",
    "    }\n",
    "    var createOrder = function(len, numRows){\n",
    "        var order = 1;\n",
    "        var pre = -1;\n",
    "        var _num = 0;\n",
    "        var res = [];\n",
    "        while(_num < len) {\n",
    "            res.push(order);\n",
    "            if(order === 1 || order === numRows) {\n",
    "                pre = -pre;\n",
    "            }\n",
    "            order += pre;\n",
    "            _num++;\n",
    "        }\n",
    "        return res;\n",
    "    }\n",
    "    \n",
    "    var orders = createOrder(s.length, numRows);\n",
    "    var _res = {};\n",
    "    var res = [];\n",
    "    \n",
    "    orders.forEach(function(item, index) {\n",
    "        _res[item] = _res[item] ? [..._res[item], s[index]] : [s[index]]\n",
    "    });\n",
    "    \n",
    "    for(var i = 1; i <= numRows; i++) {\n",
    "        res = res.concat(_res[i]);\n",
    "    }\n",
    "    \n",
    "    return res.join('');\n",
    "};\n",
    "\n",
    "    \n",
    "console.log(convert(\"123456789\", 3));"
   ]
  },
  {
   "cell_type": "code",
   "execution_count": null,
   "metadata": {},
   "outputs": [],
   "source": []
  }
 ],
 "metadata": {
  "kernelspec": {
   "display_name": "Javascript (Node.js)",
   "language": "javascript",
   "name": "javascript"
  },
  "language_info": {
   "file_extension": ".js",
   "mimetype": "application/javascript",
   "name": "javascript",
   "version": "8.9.3"
  }
 },
 "nbformat": 4,
 "nbformat_minor": 2
}
