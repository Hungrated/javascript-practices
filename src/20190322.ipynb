{
 "cells": [
  {
   "cell_type": "code",
   "execution_count": 23,
   "metadata": {},
   "outputs": [
    {
     "name": "stdout",
     "output_type": "stream",
     "text": [
      "qosoq\n"
     ]
    },
    {
     "data": {
      "text/plain": [
       "undefined"
      ]
     },
     "execution_count": 23,
     "metadata": {},
     "output_type": "execute_result"
    }
   ],
   "source": [
    "var str = 'jrjnbctoqgzimtoklkxcknwmhiztomaofwwzjnhrijwkgmwwuazcowskjhitejnvtblqyepxispasrgvgzqlvrmvhxusiqqzzibcyhpnruhrgbzsmlsuacwptmzxuewnjzmwxbdzqyvsjzxiecsnkdibudtvthzlizralpaowsbakzconeuwwpsqynaxqmgngzpovauxsqgypinywwtmekzhhlzaeatbzryreuttgwfqmmpeywtvpssznkwhzuqewuqtfuflttjcxrhwexvtxjihunpywerkktbvlsyomkxuwrqqmbmzjbfytdddnkasmdyukawrzrnhdmaefzltddipcrhuchvdcoegamlfifzistnplqabtazunlelslicrkuuhosoyduhootlwsbtxautewkvnvlbtixkmxhngidxecehslqjpcdrtlqswmyghmwlttjecvbueswsixoxmymcepbmuwtzanmvujmalyghzkvtoxynyusbpzpolaplsgrunpfgdbbtvtkahqmmlbxzcfznvhxsiytlsxmmtqiudyjlnbkzvtbqdsknsrknsykqzucevgmmcoanilsyyklpbxqosoquolvytefhvozwtwcrmbnyijbammlzrgalrymyfpysbqpjwzirsfknnyseiujadovngogvptphuyzkrwgjqwdhtvgxnmxuheofplizpxijfytfabx\"\"jrjnbctoqgzimtoklkxcknwmhiztomaofwwzjnhrijwkgmwwuazcowskjhitejnvtblqyepxispasrgvgzqlvrmvhxusiqqzzibcyhpnruhrgbzsmlsuacwptmzxuewnjzmwxbdzqyvsjzxiecsnkdibudtvthzlizralpaowsbakzconeuwwpsqynaxqmgngzpovauxsqgypinywwtmekzhhlzaeatbzryreuttgwfqmmpeywtvpssznkwhzuqewuqtfuflttjcxrhwexvtxjihunpywerkktbvlsyomkxuwrqqmbmzjbfytdddnkasmdyukawrzrnhdmaefzltddipcrhuchvdcoegamlfifzistnplqabtazunlelslicrkuuhosoyduhootlwsbtxautewkvnvlbtixkmxhngidxecehslqjpcdrtlqswmyghmwlttjecvbueswsixoxmymcepbmuwtzanmvujmalyghzkvtoxynyusbpzpolaplsgrunpfgdbbtvtkahqmmlbxzcfznvhxsiytlsxmmtqiudyjlnbkzvtbqdsknsrknsykqzucevgmmcoanilsyyklpbxqosoquolvytefhvozwtwcrmbnyijbammlzrgalrymyfpysbqpjwzirsfknnyseiujadovngogvptphuyzkrwgjqwdhtvgxnmxuheofplizpxijfytfabx';\n",
    "\n",
    "var longestPalindrome = function(s) {\n",
    "    \n",
    "    if(!s) {\n",
    "        return '';\n",
    "    }\n",
    "    \n",
    "    var len = s.length;\n",
    "    \n",
    "    if(len === 1) {\n",
    "        return s;\n",
    "    }\n",
    "    \n",
    "    var reverseStr = function(s) {\n",
    "        var i = s.length - 2;\n",
    "        var res = s[i + 1];\n",
    "        while(i >= 0) {\n",
    "            res = res + s[i];\n",
    "            i--;\n",
    "        }\n",
    "        return res;\n",
    "    }\n",
    "    \n",
    "    var isPalindrome = function(s, offset, _len) {\n",
    "        \n",
    "        var _mid1 = (_len % 2) ? Math.ceil(_len / 2) : Math.floor(_len / 2);\n",
    "        var _mid2 = (_len % 2) ? _mid1 - 1 : _mid1;\n",
    "        var sub1 = s.substring(offset, offset + _mid1);\n",
    "        var sub2 = reverseStr(s.substring(offset + _mid2, offset + _len));        \n",
    "       \n",
    "        if(sub1 === sub2) {\n",
    "            return true;\n",
    "        }\n",
    "        return false;\n",
    "    }    \n",
    "    \n",
    "    var index = 0;\n",
    "    var tempStr = '';\n",
    "    var resStr = '';\n",
    "    var len2 = 2;\n",
    "    \n",
    "    var test = function(s, len) {\n",
    "        for(var i = 0; i <= s.length - len; i++) {\n",
    "            if(isPalindrome(s, i, len2)) {\n",
    "                return s.substr(i, len2);\n",
    "            }\n",
    "        }\n",
    "        return '';\n",
    "    }\n",
    "    \n",
    "    while(len2 <= len) {\n",
    "        if(tempStr = test(s, len2)) {\n",
    "            resStr = tempStr;            \n",
    "        }\n",
    "        len2++;\n",
    "    }\n",
    "    \n",
    "    return resStr || s.substring(0, 1);\n",
    "};\n",
    "\n",
    "console.log(longestPalindrome(str));\n",
    "\n"
   ]
  },
  {
   "cell_type": "code",
   "execution_count": null,
   "metadata": {},
   "outputs": [],
   "source": []
  }
 ],
 "metadata": {
  "kernelspec": {
   "display_name": "Javascript (Node.js)",
   "language": "javascript",
   "name": "javascript"
  },
  "language_info": {
   "file_extension": ".js",
   "mimetype": "application/javascript",
   "name": "javascript",
   "version": "8.9.3"
  }
 },
 "nbformat": 4,
 "nbformat_minor": 2
}
